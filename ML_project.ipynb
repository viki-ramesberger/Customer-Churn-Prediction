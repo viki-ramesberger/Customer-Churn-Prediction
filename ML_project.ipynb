{
 "cells": [
  {
   "cell_type": "markdown",
   "metadata": {},
   "source": [
    "# Gym Customer Churn Prediction"
   ]
  },
  {
   "cell_type": "markdown",
   "metadata": {},
   "source": [
    "**Research Client:** A gym network\n",
    "\n",
    "**Research Objective:** Analyze customer data and develop an action plan to improve customer retention. This includes:\n",
    "\n",
    "- Predicting the probability of churn (for the next month) for each customer;\n",
    "- Creating typical customer profiles: identifying key groups and characterizing their main attributes;\n",
    "- Analyzing key factors that significantly influence churn;\n",
    "- Formulating key findings and developing recommendations to improve customer relations, including:\n",
    "- Identifying target customer groups;\n",
    "- Proposing measures to reduce churn;\n",
    "- Highlighting other aspects of customer interaction.\n",
    "\n",
    "**The study consists of 5 steps:**\n",
    "1. Data Overview\n",
    "2. Exploratory Data Analysis (EDA)\n",
    "3. Building a churn prediction model\n",
    "4. Customer clustering\n",
    "5. Formulating conclusions and drafting initial recommendations for customer engagement\n",
    "\n",
    "**Data Description**\n",
    "File: `/datasets/gym_churn.csv`\n",
    "\n",
    "*Customer data for the month preceding the churn check:*\n",
    "\n",
    "- `gender` — gender;\n",
    "- `Near_Location` — customer lives or works near the fitness center;\n",
    "- `Partner` — customer is an employee of a partner company (partner companies offer their employees discounts on gym memberships, and the fitness center stores employer information);\n",
    "- `Promo_friends` — customer initially joined via the \"Bring a Friend\" promotion (used a friend's promo code for the first membership payment);\n",
    "- `Phone` — availability of a contact phone number;\n",
    "- `Age` — customer’s age;\n",
    "- `Lifetime` — duration since the customer’s first visit to the fitness center (in months).\n",
    "\n",
    "*Information based on visit logs, purchases, and the customer’s current membership status:*\n",
    "\n",
    "- `Contract_period` — duration of the current membership (1 month, 6 months, or 1 year);\n",
    "- `Month_to_end_contract` — months remaining until the membership expires;\n",
    "- `Group_visits` — attendance of group classes;\n",
    "- `Avg_class_frequency_total` — average weekly attendance since the start of the membership;\n",
    "- `Avg_class_frequency_current_month` — average weekly attendance during the previous month;\n",
    "- `Avg_additional_charges_total` — total revenue from additional services (café, sports goods, spa, and massage services);\n",
    "- `Churn` — whether the customer churned during the current month."
   ]
  },
  {
   "cell_type": "markdown",
   "metadata": {},
   "source": [
    "## Data Overview"
   ]
  },
  {
   "cell_type": "code",
   "execution_count": 1,
   "metadata": {},
   "outputs": [],
   "source": [
    "# Importing Libraries\n",
    "import numpy as np\n",
    "import pandas as pd\n",
    "import matplotlib.pyplot as plt\n",
    "import seaborn as sns\n",
    "\n",
    "from sklearn.model_selection import train_test_split\n",
    "from sklearn.preprocessing import StandardScaler\n",
    "from sklearn.linear_model import LogisticRegression\n",
    "from sklearn.ensemble import RandomForestClassifier\n",
    "from sklearn.cluster import KMeans\n",
    "from sklearn.metrics import accuracy_score, precision_score, recall_score\n",
    "\n",
    "from scipy.cluster.hierarchy import linkage, dendrogram"
   ]
  },
  {
   "cell_type": "code",
   "execution_count": 2,
   "metadata": {},
   "outputs": [],
   "source": [
    "# Reading the data file and saving it to a variable\n",
    "gym_data = pd.read_csv('/datasets/gym_churn.csv')"
   ]
  },
  {
   "cell_type": "code",
   "execution_count": 3,
   "metadata": {},
   "outputs": [
    {
     "data": {
      "text/html": [
       "<div>\n",
       "<style scoped>\n",
       "    .dataframe tbody tr th:only-of-type {\n",
       "        vertical-align: middle;\n",
       "    }\n",
       "\n",
       "    .dataframe tbody tr th {\n",
       "        vertical-align: top;\n",
       "    }\n",
       "\n",
       "    .dataframe thead th {\n",
       "        text-align: right;\n",
       "    }\n",
       "</style>\n",
       "<table border=\"1\" class=\"dataframe\">\n",
       "  <thead>\n",
       "    <tr style=\"text-align: right;\">\n",
       "      <th></th>\n",
       "      <th>gender</th>\n",
       "      <th>Near_Location</th>\n",
       "      <th>Partner</th>\n",
       "      <th>Promo_friends</th>\n",
       "      <th>Phone</th>\n",
       "      <th>Contract_period</th>\n",
       "      <th>Group_visits</th>\n",
       "      <th>Age</th>\n",
       "      <th>Avg_additional_charges_total</th>\n",
       "      <th>Month_to_end_contract</th>\n",
       "      <th>Lifetime</th>\n",
       "      <th>Avg_class_frequency_total</th>\n",
       "      <th>Avg_class_frequency_current_month</th>\n",
       "      <th>Churn</th>\n",
       "    </tr>\n",
       "  </thead>\n",
       "  <tbody>\n",
       "    <tr>\n",
       "      <th>0</th>\n",
       "      <td>1</td>\n",
       "      <td>1</td>\n",
       "      <td>1</td>\n",
       "      <td>1</td>\n",
       "      <td>0</td>\n",
       "      <td>6</td>\n",
       "      <td>1</td>\n",
       "      <td>29</td>\n",
       "      <td>14.227470</td>\n",
       "      <td>5.0</td>\n",
       "      <td>3</td>\n",
       "      <td>0.020398</td>\n",
       "      <td>0.000000</td>\n",
       "      <td>0</td>\n",
       "    </tr>\n",
       "    <tr>\n",
       "      <th>1</th>\n",
       "      <td>0</td>\n",
       "      <td>1</td>\n",
       "      <td>0</td>\n",
       "      <td>0</td>\n",
       "      <td>1</td>\n",
       "      <td>12</td>\n",
       "      <td>1</td>\n",
       "      <td>31</td>\n",
       "      <td>113.202938</td>\n",
       "      <td>12.0</td>\n",
       "      <td>7</td>\n",
       "      <td>1.922936</td>\n",
       "      <td>1.910244</td>\n",
       "      <td>0</td>\n",
       "    </tr>\n",
       "    <tr>\n",
       "      <th>2</th>\n",
       "      <td>0</td>\n",
       "      <td>1</td>\n",
       "      <td>1</td>\n",
       "      <td>0</td>\n",
       "      <td>1</td>\n",
       "      <td>1</td>\n",
       "      <td>0</td>\n",
       "      <td>28</td>\n",
       "      <td>129.448479</td>\n",
       "      <td>1.0</td>\n",
       "      <td>2</td>\n",
       "      <td>1.859098</td>\n",
       "      <td>1.736502</td>\n",
       "      <td>0</td>\n",
       "    </tr>\n",
       "    <tr>\n",
       "      <th>3</th>\n",
       "      <td>0</td>\n",
       "      <td>1</td>\n",
       "      <td>1</td>\n",
       "      <td>1</td>\n",
       "      <td>1</td>\n",
       "      <td>12</td>\n",
       "      <td>1</td>\n",
       "      <td>33</td>\n",
       "      <td>62.669863</td>\n",
       "      <td>12.0</td>\n",
       "      <td>2</td>\n",
       "      <td>3.205633</td>\n",
       "      <td>3.357215</td>\n",
       "      <td>0</td>\n",
       "    </tr>\n",
       "    <tr>\n",
       "      <th>4</th>\n",
       "      <td>1</td>\n",
       "      <td>1</td>\n",
       "      <td>1</td>\n",
       "      <td>1</td>\n",
       "      <td>1</td>\n",
       "      <td>1</td>\n",
       "      <td>0</td>\n",
       "      <td>26</td>\n",
       "      <td>198.362265</td>\n",
       "      <td>1.0</td>\n",
       "      <td>3</td>\n",
       "      <td>1.113884</td>\n",
       "      <td>1.120078</td>\n",
       "      <td>0</td>\n",
       "    </tr>\n",
       "  </tbody>\n",
       "</table>\n",
       "</div>"
      ],
      "text/plain": [
       "   gender  Near_Location  Partner  Promo_friends  Phone  Contract_period  \\\n",
       "0       1              1        1              1      0                6   \n",
       "1       0              1        0              0      1               12   \n",
       "2       0              1        1              0      1                1   \n",
       "3       0              1        1              1      1               12   \n",
       "4       1              1        1              1      1                1   \n",
       "\n",
       "   Group_visits  Age  Avg_additional_charges_total  Month_to_end_contract  \\\n",
       "0             1   29                     14.227470                    5.0   \n",
       "1             1   31                    113.202938                   12.0   \n",
       "2             0   28                    129.448479                    1.0   \n",
       "3             1   33                     62.669863                   12.0   \n",
       "4             0   26                    198.362265                    1.0   \n",
       "\n",
       "   Lifetime  Avg_class_frequency_total  Avg_class_frequency_current_month  \\\n",
       "0         3                   0.020398                           0.000000   \n",
       "1         7                   1.922936                           1.910244   \n",
       "2         2                   1.859098                           1.736502   \n",
       "3         2                   3.205633                           3.357215   \n",
       "4         3                   1.113884                           1.120078   \n",
       "\n",
       "   Churn  \n",
       "0      0  \n",
       "1      0  \n",
       "2      0  \n",
       "3      0  \n",
       "4      0  "
      ]
     },
     "execution_count": 3,
     "metadata": {},
     "output_type": "execute_result"
    }
   ],
   "source": [
    "# Displays the first 5 rows of the dataset to get an initial overview of the data\n",
    "gym_data.head()"
   ]
  },
  {
   "cell_type": "markdown",
   "metadata": {},
   "source": [
    "## Exploratory Data Analysis (EDA)"
   ]
  },
  {
   "cell_type": "markdown",
   "metadata": {},
   "source": [
    "### Analysis of Missing Values, Means, and Standard Deviations"
   ]
  },
  {
   "cell_type": "markdown",
   "metadata": {},
   "source": [
    "> Let's examine the dataset: check for missing values, calculate the means, and study the standard deviations."
   ]
  },
  {
   "cell_type": "code",
   "execution_count": 4,
   "metadata": {
    "scrolled": true
   },
   "outputs": [
    {
     "name": "stdout",
     "output_type": "stream",
     "text": [
      "<class 'pandas.core.frame.DataFrame'>\n",
      "RangeIndex: 4000 entries, 0 to 3999\n",
      "Data columns (total 14 columns):\n",
      " #   Column                             Non-Null Count  Dtype  \n",
      "---  ------                             --------------  -----  \n",
      " 0   gender                             4000 non-null   int64  \n",
      " 1   Near_Location                      4000 non-null   int64  \n",
      " 2   Partner                            4000 non-null   int64  \n",
      " 3   Promo_friends                      4000 non-null   int64  \n",
      " 4   Phone                              4000 non-null   int64  \n",
      " 5   Contract_period                    4000 non-null   int64  \n",
      " 6   Group_visits                       4000 non-null   int64  \n",
      " 7   Age                                4000 non-null   int64  \n",
      " 8   Avg_additional_charges_total       4000 non-null   float64\n",
      " 9   Month_to_end_contract              4000 non-null   float64\n",
      " 10  Lifetime                           4000 non-null   int64  \n",
      " 11  Avg_class_frequency_total          4000 non-null   float64\n",
      " 12  Avg_class_frequency_current_month  4000 non-null   float64\n",
      " 13  Churn                              4000 non-null   int64  \n",
      "dtypes: float64(4), int64(10)\n",
      "memory usage: 437.6 KB\n"
     ]
    }
   ],
   "source": [
    "gym_data.info()"
   ]
  },
  {
   "cell_type": "markdown",
   "metadata": {},
   "source": [
    "> - The dataset contains 14 columns, each with 4,000 entries.\n",
    "> - No explicit missing values were found in the dataset."
   ]
  },
  {
   "cell_type": "code",
   "execution_count": 5,
   "metadata": {},
   "outputs": [
    {
     "data": {
      "text/html": [
       "<div>\n",
       "<style scoped>\n",
       "    .dataframe tbody tr th:only-of-type {\n",
       "        vertical-align: middle;\n",
       "    }\n",
       "\n",
       "    .dataframe tbody tr th {\n",
       "        vertical-align: top;\n",
       "    }\n",
       "\n",
       "    .dataframe thead th {\n",
       "        text-align: right;\n",
       "    }\n",
       "</style>\n",
       "<table border=\"1\" class=\"dataframe\">\n",
       "  <thead>\n",
       "    <tr style=\"text-align: right;\">\n",
       "      <th></th>\n",
       "      <th>gender</th>\n",
       "      <th>Near_Location</th>\n",
       "      <th>Partner</th>\n",
       "      <th>Promo_friends</th>\n",
       "      <th>Phone</th>\n",
       "      <th>Contract_period</th>\n",
       "      <th>Group_visits</th>\n",
       "      <th>Age</th>\n",
       "      <th>Avg_additional_charges_total</th>\n",
       "      <th>Month_to_end_contract</th>\n",
       "      <th>Lifetime</th>\n",
       "      <th>Avg_class_frequency_total</th>\n",
       "      <th>Avg_class_frequency_current_month</th>\n",
       "      <th>Churn</th>\n",
       "    </tr>\n",
       "  </thead>\n",
       "  <tbody>\n",
       "    <tr>\n",
       "      <th>count</th>\n",
       "      <td>4000.000000</td>\n",
       "      <td>4000.000000</td>\n",
       "      <td>4000.000000</td>\n",
       "      <td>4000.000000</td>\n",
       "      <td>4000.000000</td>\n",
       "      <td>4000.000000</td>\n",
       "      <td>4000.000000</td>\n",
       "      <td>4000.000000</td>\n",
       "      <td>4000.000000</td>\n",
       "      <td>4000.000000</td>\n",
       "      <td>4000.000000</td>\n",
       "      <td>4000.000000</td>\n",
       "      <td>4000.000000</td>\n",
       "      <td>4000.000000</td>\n",
       "    </tr>\n",
       "    <tr>\n",
       "      <th>mean</th>\n",
       "      <td>0.510250</td>\n",
       "      <td>0.845250</td>\n",
       "      <td>0.486750</td>\n",
       "      <td>0.308500</td>\n",
       "      <td>0.903500</td>\n",
       "      <td>4.681250</td>\n",
       "      <td>0.412250</td>\n",
       "      <td>29.184250</td>\n",
       "      <td>146.943728</td>\n",
       "      <td>4.322750</td>\n",
       "      <td>3.724750</td>\n",
       "      <td>1.879020</td>\n",
       "      <td>1.767052</td>\n",
       "      <td>0.265250</td>\n",
       "    </tr>\n",
       "    <tr>\n",
       "      <th>std</th>\n",
       "      <td>0.499957</td>\n",
       "      <td>0.361711</td>\n",
       "      <td>0.499887</td>\n",
       "      <td>0.461932</td>\n",
       "      <td>0.295313</td>\n",
       "      <td>4.549706</td>\n",
       "      <td>0.492301</td>\n",
       "      <td>3.258367</td>\n",
       "      <td>96.355602</td>\n",
       "      <td>4.191297</td>\n",
       "      <td>3.749267</td>\n",
       "      <td>0.972245</td>\n",
       "      <td>1.052906</td>\n",
       "      <td>0.441521</td>\n",
       "    </tr>\n",
       "    <tr>\n",
       "      <th>min</th>\n",
       "      <td>0.000000</td>\n",
       "      <td>0.000000</td>\n",
       "      <td>0.000000</td>\n",
       "      <td>0.000000</td>\n",
       "      <td>0.000000</td>\n",
       "      <td>1.000000</td>\n",
       "      <td>0.000000</td>\n",
       "      <td>18.000000</td>\n",
       "      <td>0.148205</td>\n",
       "      <td>1.000000</td>\n",
       "      <td>0.000000</td>\n",
       "      <td>0.000000</td>\n",
       "      <td>0.000000</td>\n",
       "      <td>0.000000</td>\n",
       "    </tr>\n",
       "    <tr>\n",
       "      <th>25%</th>\n",
       "      <td>0.000000</td>\n",
       "      <td>1.000000</td>\n",
       "      <td>0.000000</td>\n",
       "      <td>0.000000</td>\n",
       "      <td>1.000000</td>\n",
       "      <td>1.000000</td>\n",
       "      <td>0.000000</td>\n",
       "      <td>27.000000</td>\n",
       "      <td>68.868830</td>\n",
       "      <td>1.000000</td>\n",
       "      <td>1.000000</td>\n",
       "      <td>1.180875</td>\n",
       "      <td>0.963003</td>\n",
       "      <td>0.000000</td>\n",
       "    </tr>\n",
       "    <tr>\n",
       "      <th>50%</th>\n",
       "      <td>1.000000</td>\n",
       "      <td>1.000000</td>\n",
       "      <td>0.000000</td>\n",
       "      <td>0.000000</td>\n",
       "      <td>1.000000</td>\n",
       "      <td>1.000000</td>\n",
       "      <td>0.000000</td>\n",
       "      <td>29.000000</td>\n",
       "      <td>136.220159</td>\n",
       "      <td>1.000000</td>\n",
       "      <td>3.000000</td>\n",
       "      <td>1.832768</td>\n",
       "      <td>1.719574</td>\n",
       "      <td>0.000000</td>\n",
       "    </tr>\n",
       "    <tr>\n",
       "      <th>75%</th>\n",
       "      <td>1.000000</td>\n",
       "      <td>1.000000</td>\n",
       "      <td>1.000000</td>\n",
       "      <td>1.000000</td>\n",
       "      <td>1.000000</td>\n",
       "      <td>6.000000</td>\n",
       "      <td>1.000000</td>\n",
       "      <td>31.000000</td>\n",
       "      <td>210.949625</td>\n",
       "      <td>6.000000</td>\n",
       "      <td>5.000000</td>\n",
       "      <td>2.536078</td>\n",
       "      <td>2.510336</td>\n",
       "      <td>1.000000</td>\n",
       "    </tr>\n",
       "    <tr>\n",
       "      <th>max</th>\n",
       "      <td>1.000000</td>\n",
       "      <td>1.000000</td>\n",
       "      <td>1.000000</td>\n",
       "      <td>1.000000</td>\n",
       "      <td>1.000000</td>\n",
       "      <td>12.000000</td>\n",
       "      <td>1.000000</td>\n",
       "      <td>41.000000</td>\n",
       "      <td>552.590740</td>\n",
       "      <td>12.000000</td>\n",
       "      <td>31.000000</td>\n",
       "      <td>6.023668</td>\n",
       "      <td>6.146783</td>\n",
       "      <td>1.000000</td>\n",
       "    </tr>\n",
       "  </tbody>\n",
       "</table>\n",
       "</div>"
      ],
      "text/plain": [
       "            gender  Near_Location      Partner  Promo_friends        Phone  \\\n",
       "count  4000.000000    4000.000000  4000.000000    4000.000000  4000.000000   \n",
       "mean      0.510250       0.845250     0.486750       0.308500     0.903500   \n",
       "std       0.499957       0.361711     0.499887       0.461932     0.295313   \n",
       "min       0.000000       0.000000     0.000000       0.000000     0.000000   \n",
       "25%       0.000000       1.000000     0.000000       0.000000     1.000000   \n",
       "50%       1.000000       1.000000     0.000000       0.000000     1.000000   \n",
       "75%       1.000000       1.000000     1.000000       1.000000     1.000000   \n",
       "max       1.000000       1.000000     1.000000       1.000000     1.000000   \n",
       "\n",
       "       Contract_period  Group_visits          Age  \\\n",
       "count      4000.000000   4000.000000  4000.000000   \n",
       "mean          4.681250      0.412250    29.184250   \n",
       "std           4.549706      0.492301     3.258367   \n",
       "min           1.000000      0.000000    18.000000   \n",
       "25%           1.000000      0.000000    27.000000   \n",
       "50%           1.000000      0.000000    29.000000   \n",
       "75%           6.000000      1.000000    31.000000   \n",
       "max          12.000000      1.000000    41.000000   \n",
       "\n",
       "       Avg_additional_charges_total  Month_to_end_contract     Lifetime  \\\n",
       "count                   4000.000000            4000.000000  4000.000000   \n",
       "mean                     146.943728               4.322750     3.724750   \n",
       "std                       96.355602               4.191297     3.749267   \n",
       "min                        0.148205               1.000000     0.000000   \n",
       "25%                       68.868830               1.000000     1.000000   \n",
       "50%                      136.220159               1.000000     3.000000   \n",
       "75%                      210.949625               6.000000     5.000000   \n",
       "max                      552.590740              12.000000    31.000000   \n",
       "\n",
       "       Avg_class_frequency_total  Avg_class_frequency_current_month  \\\n",
       "count                4000.000000                        4000.000000   \n",
       "mean                    1.879020                           1.767052   \n",
       "std                     0.972245                           1.052906   \n",
       "min                     0.000000                           0.000000   \n",
       "25%                     1.180875                           0.963003   \n",
       "50%                     1.832768                           1.719574   \n",
       "75%                     2.536078                           2.510336   \n",
       "max                     6.023668                           6.146783   \n",
       "\n",
       "             Churn  \n",
       "count  4000.000000  \n",
       "mean      0.265250  \n",
       "std       0.441521  \n",
       "min       0.000000  \n",
       "25%       0.000000  \n",
       "50%       0.000000  \n",
       "75%       1.000000  \n",
       "max       1.000000  "
      ]
     },
     "execution_count": 5,
     "metadata": {},
     "output_type": "execute_result"
    }
   ],
   "source": [
    "gym_data.describe()"
   ]
  },
  {
   "cell_type": "code",
   "execution_count": 6,
   "metadata": {},
   "outputs": [
    {
     "data": {
      "image/png": "[encoded data removed]",
      "text/plain": [
       "<Figure size 1440x1440 with 16 Axes>"
      ]
     },
     "metadata": {
      "needs_background": "light"
     },
     "output_type": "display_data"
    }
   ],
   "source": [
    "gym_data.hist(figsize=(20, 20));"
   ]
  },
  {
   "cell_type": "markdown",
   "metadata": {},
   "source": [
    "#### **Additional Insights from the Dataset**\n",
    "\n",
    "*Customer Distribution by Gender:*\n",
    "\n",
    "- The dataset is balanced in terms of gender, with males and females making up approximately 51% and 49% of the sample, respectively.\n",
    "\n",
    "*Proximity to Gyms:*\n",
    "\n",
    "- A significant portion of customers (84.5%) live or work near the fitness centers, suggesting proximity is a key factor for membership.\n",
    "\n",
    "*Partnership Programs:*\n",
    "\n",
    "- Almost half (48.7%) of the customers are employees of partner companies, indicating that corporate partnerships are an important source of clientele.\n",
    "\n",
    "*Promotional Engagement:*\n",
    "\n",
    "- About 30.9% of customers joined through the \"Bring a Friend\" promotion, showing its moderate popularity.\n",
    "\n",
    "*Contact Information:*\n",
    "\n",
    "- The vast majority of customers (90.4%) have provided their phone numbers, facilitating communication and marketing efforts.\n",
    "\n",
    "*Contract Durations:*\n",
    "\n",
    "- The average contract period is 4.7 months, with a range of 1 to 12 months. The most common contract durations are short-term (1 month) and medium-term (6 months).\n",
    "\n",
    "*Group Classes:*\n",
    "\n",
    "- Only 41.2% of customers participate in group classes, which may indicate either low interest or limited availability of such activities.\n",
    "\n",
    "*Age Range of Customers:*\n",
    "\n",
    "- The customer age spans from 18 to 41 years, with a median age of 29. The gym primarily attracts young adults.\n",
    "\n",
    "*Revenue from Additional Services:*\n",
    "\n",
    "- There is substantial variability in spending on additional services (`Avg_additional_charges_total`), with values ranging from €0.15 to €552.59. The median spending is €136.22.\n",
    "\n",
    "*Membership Lifetime:*\n",
    "\n",
    "- The median customer has been a member for 3 months, but some have maintained memberships for over 2.5 years, reflecting diverse customer retention patterns.\n",
    "\n",
    "*Visit Frequency:*\n",
    "\n",
    "- The average total weekly attendance frequency is 1.9, with some customers attending as frequently as 6 times per week. The current month's frequency is slightly lower, at 1.77 on average.\n",
    "\n",
    "*Churn Rate:*\n",
    "\n",
    "- The churn rate is 26.5%, indicating that approximately one in four customers do not renew their memberships monthly.\n",
    "\n",
    "*Outliers and Anomalies:*\n",
    "\n",
    "- No significant outliers or anomalies were detected in the dataset, indicating data consistency and reliability."
   ]
  },
  {
   "cell_type": "markdown",
   "metadata": {},
   "source": [
    "#### **Key Observations**\n",
    "- Revenue Insights: The high variability in spending on additional services may be a valuable area for increasing revenue.\n",
    "- Target Groups: Customers near the fitness centers and those employed by partner companies represent key demographics.\n",
    "- Retention Challenge: The churn rate suggests significant room for improvement in customer retention strategies."
   ]
  },
  {
   "cell_type": "markdown",
   "metadata": {},
   "source": [
    "### Analysis of Feature Values in Two Groups"
   ]
  },
  {
   "cell_type": "markdown",
   "metadata": {},
   "source": [
    "> Let's compare the average feature values between two groups: customers who churned and those who remained."
   ]
  },
  {
   "cell_type": "code",
   "execution_count": 7,
   "metadata": {},
   "outputs": [
    {
     "data": {
      "text/html": [
       "<div>\n",
       "<style scoped>\n",
       "    .dataframe tbody tr th:only-of-type {\n",
       "        vertical-align: middle;\n",
       "    }\n",
       "\n",
       "    .dataframe tbody tr th {\n",
       "        vertical-align: top;\n",
       "    }\n",
       "\n",
       "    .dataframe thead th {\n",
       "        text-align: right;\n",
       "    }\n",
       "</style>\n",
       "<table border=\"1\" class=\"dataframe\">\n",
       "  <thead>\n",
       "    <tr style=\"text-align: right;\">\n",
       "      <th></th>\n",
       "      <th>gender</th>\n",
       "      <th>Near_Location</th>\n",
       "      <th>Partner</th>\n",
       "      <th>Promo_friends</th>\n",
       "      <th>Phone</th>\n",
       "      <th>Contract_period</th>\n",
       "      <th>Group_visits</th>\n",
       "      <th>Age</th>\n",
       "      <th>Avg_additional_charges_total</th>\n",
       "      <th>Month_to_end_contract</th>\n",
       "      <th>Lifetime</th>\n",
       "      <th>Avg_class_frequency_total</th>\n",
       "      <th>Avg_class_frequency_current_month</th>\n",
       "    </tr>\n",
       "    <tr>\n",
       "      <th>Churn</th>\n",
       "      <th></th>\n",
       "      <th></th>\n",
       "      <th></th>\n",
       "      <th></th>\n",
       "      <th></th>\n",
       "      <th></th>\n",
       "      <th></th>\n",
       "      <th></th>\n",
       "      <th></th>\n",
       "      <th></th>\n",
       "      <th></th>\n",
       "      <th></th>\n",
       "      <th></th>\n",
       "    </tr>\n",
       "  </thead>\n",
       "  <tbody>\n",
       "    <tr>\n",
       "      <th>0</th>\n",
       "      <td>0.510037</td>\n",
       "      <td>0.873086</td>\n",
       "      <td>0.534195</td>\n",
       "      <td>0.353522</td>\n",
       "      <td>0.903709</td>\n",
       "      <td>5.747193</td>\n",
       "      <td>0.464103</td>\n",
       "      <td>29.976523</td>\n",
       "      <td>158.445715</td>\n",
       "      <td>5.283089</td>\n",
       "      <td>4.711807</td>\n",
       "      <td>2.024876</td>\n",
       "      <td>2.027882</td>\n",
       "    </tr>\n",
       "    <tr>\n",
       "      <th>1</th>\n",
       "      <td>0.510839</td>\n",
       "      <td>0.768143</td>\n",
       "      <td>0.355325</td>\n",
       "      <td>0.183789</td>\n",
       "      <td>0.902922</td>\n",
       "      <td>1.728558</td>\n",
       "      <td>0.268615</td>\n",
       "      <td>26.989632</td>\n",
       "      <td>115.082899</td>\n",
       "      <td>1.662582</td>\n",
       "      <td>0.990575</td>\n",
       "      <td>1.474995</td>\n",
       "      <td>1.044546</td>\n",
       "    </tr>\n",
       "  </tbody>\n",
       "</table>\n",
       "</div>"
      ],
      "text/plain": [
       "         gender  Near_Location   Partner  Promo_friends     Phone  \\\n",
       "Churn                                                               \n",
       "0      0.510037       0.873086  0.534195       0.353522  0.903709   \n",
       "1      0.510839       0.768143  0.355325       0.183789  0.902922   \n",
       "\n",
       "       Contract_period  Group_visits        Age  Avg_additional_charges_total  \\\n",
       "Churn                                                                           \n",
       "0             5.747193      0.464103  29.976523                    158.445715   \n",
       "1             1.728558      0.268615  26.989632                    115.082899   \n",
       "\n",
       "       Month_to_end_contract  Lifetime  Avg_class_frequency_total  \\\n",
       "Churn                                                               \n",
       "0                   5.283089  4.711807                   2.024876   \n",
       "1                   1.662582  0.990575                   1.474995   \n",
       "\n",
       "       Avg_class_frequency_current_month  \n",
       "Churn                                     \n",
       "0                               2.027882  \n",
       "1                               1.044546  "
      ]
     },
     "execution_count": 7,
     "metadata": {},
     "output_type": "execute_result"
    }
   ],
   "source": [
    "# Grouping the data by the 'Churn' column and calculating the mean values of features for each group\n",
    "churn_group = gym_data.groupby('Churn').mean()\n",
    "churn_group.head()"
   ]
  },
  {
   "cell_type": "markdown",
   "metadata": {},
   "source": [
    "### Bar Histograms of Feature Distributions for Two Groups"
   ]
  },
  {
   "cell_type": "markdown",
   "metadata": {},
   "source": [
    "> Let's plot bar histograms to visualize the distribution of features for customers who churned (churn group) and those who stayed (non-churn group)."
   ]
  },
  {
   "cell_type": "code",
   "execution_count": 8,
   "metadata": {},
   "outputs": [],
   "source": [
    "# Filtering the data for churned and retained customers\n",
    "churned_data = gym_data[gym_data['Churn'] == 1]\n",
    "retained_data = gym_data[gym_data['Churn'] == 0]"
   ]
  },
  {
   "cell_type": "code",
   "execution_count": 9,
   "metadata": {},
   "outputs": [],
   "source": [
    "# List of features to be analyzed for comparing churned and retained customers\n",
    "features_to_analyze = ['gender','Near_Location', 'Partner', 'Promo_friends',\n",
    "                       'Phone', 'Contract_period', 'Group_visits', 'Age',\n",
    "                       'Avg_additional_charges_total','Month_to_end_contract',\n",
    "                       'Lifetime', 'Avg_class_frequency_total', 'Avg_class_frequency_current_month']"
   ]
  },
  {
   "cell_type": "code",
   "execution_count": 10,
   "metadata": {},
   "outputs": [
    {
     "data": {
      "image/png": "[encoded data removed]",
      "text/plain": [
       "<Figure size 360x360 with 1 Axes>"
      ]
     },
     "metadata": {
      "needs_background": "light"
     },
     "output_type": "display_data"
    },
    {
     "data": {
      "image/png": "[encoded data removed]",
      "text/plain": [
       "<Figure size 360x360 with 1 Axes>"
      ]
     },
     "metadata": {
      "needs_background": "light"
     },
     "output_type": "display_data"
    },
    {
     "data": {
      "image/png": "[encoded data removed]",
      "text/plain": [
       "<Figure size 360x360 with 1 Axes>"
      ]
     },
     "metadata": {
      "needs_background": "light"
     },
     "output_type": "display_data"
    },
    {
     "data": {
      "image/png": "[encoded data removed]",
      "text/plain": [
       "<Figure size 360x360 with 1 Axes>"
      ]
     },
     "metadata": {
      "needs_background": "light"
     },
     "output_type": "display_data"
    },
    {
     "data": {
      "image/png": "[encoded data removed]",
      "text/plain": [
       "<Figure size 360x360 with 1 Axes>"
      ]
     },
     "metadata": {
      "needs_background": "light"
     },
     "output_type": "display_data"
    },
    {
     "data": {
      "image/png": "[encoded data removed]",
      "text/plain": [
       "<Figure size 360x360 with 1 Axes>"
      ]
     },
     "metadata": {
      "needs_background": "light"
     },
     "output_type": "display_data"
    },
    {
     "data": {
      "image/png": "[encoded data removed]",
      "text/plain": [
       "<Figure size 360x360 with 1 Axes>"
      ]
     },
     "metadata": {
      "needs_background": "light"
     },
     "output_type": "display_data"
    },
    {
     "data": {
      "image/png": "[encoded data removed]",
      "text/plain": [
       "<Figure size 360x360 with 1 Axes>"
      ]
     },
     "metadata": {
      "needs_background": "light"
     },
     "output_type": "display_data"
    },
    {
     "data": {
      "image/png": "[encoded data removed]",
      "text/plain": [
       "<Figure size 360x360 with 1 Axes>"
      ]
     },
     "metadata": {
      "needs_background": "light"
     },
     "output_type": "display_data"
    },
    {
     "data": {
      "image/png": "[encoded data removed]",
      "text/plain": [
       "<Figure size 360x360 with 1 Axes>"
      ]
     },
     "metadata": {
      "needs_background": "light"
     },
     "output_type": "display_data"
    },
    {
     "data": {
      "image/png": "[encoded data removed]",
      "text/plain": [
       "<Figure size 360x360 with 1 Axes>"
      ]
     },
     "metadata": {
      "needs_background": "light"
     },
     "output_type": "display_data"
    },
    {
     "data": {
      "image/png": "[encoded data removed]",
      "text/plain": [
       "<Figure size 360x360 with 1 Axes>"
      ]
     },
     "metadata": {
      "needs_background": "light"
     },
     "output_type": "display_data"
    },
    {
     "data": {
      "image/png": "[encoded data removed]",
      "text/plain": [
       "<Figure size 360x360 with 1 Axes>"
      ]
     },
     "metadata": {
      "needs_background": "light"
     },
     "output_type": "display_data"
    }
   ],
   "source": [
    "# Creating bar histograms for each feature to compare churned and retained customers\n",
    "for feature in features_to_analyze:\n",
    "    plt.figure(figsize=(5, 5))\n",
    "    plt.hist(churned_data[feature], bins=20, alpha=0.5, color='red', label='Churned')\n",
    "    plt.hist(retained_data[feature], bins=20, alpha=0.5, color='blue', label='Retained')\n",
    "    plt.xlabel(feature)\n",
    "    plt.ylabel('Frequency')\n",
    "    plt.legend()\n",
    "    plt.title(f'Distribution of the \"{feature}\" feature for churned and retained customers')\n",
    "    plt.show()"
   ]
  },
  {
   "cell_type": "markdown",
   "metadata": {},
   "source": [
    "#### Additional Insights"
   ]
  },
  {
   "cell_type": "markdown",
   "metadata": {},
   "source": [
    "- The same proportion of both men and women left the gym this month.\n",
    "- More than half of the customers who do not live or work near the gym have left.\n",
    "- A smaller percentage of customers who participated in the partner program have churned.\n",
    "- Nearly half of the customers who used a friend’s promo code have left the gym.\n",
    "- Customers typically leave the gym after their monthly membership expires.\n",
    "- Churned customers attended group classes less frequently.\n",
    "- The average age of churned customers is 27 years, while the average age of those who continue attending the gym is around 30. This is logical, as older customers tend to have more established daily routines, often accompanied by greater discipline. Additionally, physical activity becomes more important for health as people age.\n",
    "- The total revenue from churned customers is significantly lower.\n",
    "- The majority of churned customers attended the gym about 1.5 times per week, while those who remain were attending approximately 2 times per week."
   ]
  },
  {
   "cell_type": "markdown",
   "metadata": {},
   "source": [
    "### Correlation Matrix"
   ]
  },
  {
   "cell_type": "markdown",
   "metadata": {},
   "source": [
    "> Let's build and display the correlation matrix."
   ]
  },
  {
   "cell_type": "code",
   "execution_count": 11,
   "metadata": {},
   "outputs": [
    {
     "data": {
      "image/png": "[encoded data removed]",
      "text/plain": [
       "<Figure size 1080x1080 with 2 Axes>"
      ]
     },
     "metadata": {
      "needs_background": "light"
     },
     "output_type": "display_data"
    }
   ],
   "source": [
    "# Correlation Matrix\n",
    "corr_m = gym_data.corr()\n",
    "\n",
    "plt.figure(figsize=(15, 15))\n",
    "sns.heatmap(corr_m, square=True, annot=True)\n",
    "plt.show()"
   ]
  },
  {
   "cell_type": "markdown",
   "metadata": {},
   "source": [
    "#### Additional Insights"
   ]
  },
  {
   "cell_type": "markdown",
   "metadata": {},
   "source": [
    "*Strong correlation is observed between:*\n",
    "- `Contract_period` and `Month_to_end_contract` -- 0.97;\n",
    "- `Avg_class_frequency_total` and `Avg_class_frequency_current_month` -- 0.95.\n",
    "\n",
    "To eliminate multicollinearity, we will remove pairs of columns with strong correlation from the dataframe.\n",
    "\n",
    "*Moderate correlation is observed between:*\n",
    "- `Promo_friends` and `Partner` -- 0.45;\n",
    "- `Churn` and `Lifetime` -- -0.44;\n",
    "- `Churn` and `Avg_class_frequency_current_month` -- -0.41;\n",
    "- `Churn` and `Age` -- -0.4;\n",
    "- `Churn` and `Contract_period` -- -0.39;\n",
    "- `Churn` and `Month_to_end_contract` -- -0.38."
   ]
  },
  {
   "cell_type": "code",
   "execution_count": 12,
   "metadata": {},
   "outputs": [],
   "source": [
    "# Removing pairs of highly correlated features\n",
    "gym_data.drop(['Month_to_end_contract', 'Avg_class_frequency_current_month'], axis=1, inplace=True)"
   ]
  },
  {
   "cell_type": "code",
   "execution_count": 13,
   "metadata": {},
   "outputs": [
    {
     "data": {
      "text/plain": [
       "(4000, 12)"
      ]
     },
     "execution_count": 13,
     "metadata": {},
     "output_type": "execute_result"
    }
   ],
   "source": [
    "gym_data.shape"
   ]
  },
  {
   "cell_type": "markdown",
   "metadata": {},
   "source": [
    "### Interim Conclusions"
   ]
  },
  {
   "cell_type": "markdown",
   "metadata": {},
   "source": [
    "*General Observations:*\n",
    "\n",
    "- The dataset consists of 14 columns with 4,000 entries each, without any explicit missing values.\n",
    "- The gender distribution is nearly balanced, with males at 51% and females at 49%.\n",
    "- A significant portion of customers (84.5%) live or work near the fitness centers, highlighting the importance of proximity in attracting members.\n",
    "- Nearly half of the customers (48.7%) are part of corporate partnership programs, which indicates that these partnerships are a major source of clientele.\n",
    "- Around 30.9% of customers joined through the \"Bring a Friend\" promotion, demonstrating moderate success of this marketing tactic.\n",
    "- The dataset shows that 90.4% of customers have provided phone numbers, facilitating communication and targeted marketing efforts.\n",
    "\n",
    "*Customer Demographics and Behavior:*\n",
    "\n",
    "- The average contract period is 4.7 months, with a common preference for short-term (1 month) and medium-term (6 months) memberships.\n",
    "- Group class participation is relatively low, with only 41.2% of customers engaging in these activities, suggesting either limited interest or availability.\n",
    "- The customer age range spans from 18 to 41 years, with a median age of 29, indicating that the gym primarily attracts young adults.\n",
    "- There is substantial variability in spending on additional services, with the median amount spent on such services being €136.22. This presents an opportunity to explore ways to increase revenue in this area.\n",
    "\n",
    "*Churn Analysis:*\n",
    "\n",
    "- The churn rate is 26.5%, meaning approximately one in four customers do not renew their memberships. This suggests a significant opportunity for improving retention strategies.\n",
    "- Both men and women have churned at the same rate this month, and more than half of the customers who do not live or work near the gym have left.\n",
    "- Customers who participated in the partner program exhibited a lower churn rate, which could highlight the potential value of this program.\n",
    "- Nearly half of the customers who used a friend's promo code left the gym, which might indicate that this promotional approach could be re-evaluated for effectiveness.\n",
    "- Churned customers typically leave after their monthly membership expires and attend group classes less frequently than those who stay. Additionally, churned customers have an average age of 27 years, compared to 30 years for those who remain, suggesting that older clients tend to have more established routines and greater discipline around fitness.\n",
    "- The total revenue from churned customers is significantly lower, and churned customers generally attended the gym less frequently—about 1.5 times per week compared to 2 times per week for those who remained.\n",
    "\n",
    "*Correlation Insights:*\n",
    "\n",
    "- A very strong correlation (0.97) is observed between the contract period (`Contract_period`) and the time remaining on the contract (`Month_to_end_contract`). Similarly, the correlation between total class frequency (`Avg_class_frequency_total`) and current month's class frequency (`Avg_class_frequency_current_month`) is also strong (0.95). These high correlations indicate multicollinearity, so these columns will be removed from the dataset to improve model accuracy.\n",
    "- Moderate correlations were also observed between several features related to churn, such as the relationship between `Promo_friends` and `Partner` (0.45) and `Churn` with other variables like `Lifetime`, `Avg_class_frequency_current_month`, `Age`, `Contract_period`, and `Month_to_end_contract`, which may provide useful insights for further analysis."
   ]
  },
  {
   "cell_type": "markdown",
   "metadata": {},
   "source": [
    "### Preliminary Hypotheses"
   ]
  },
  {
   "cell_type": "markdown",
   "metadata": {},
   "source": [
    "The analysis of the available data leads to the following preliminary hypotheses:\n",
    "\n",
    "- *Age and Customer Activity:* Younger customers (approximately under 30) are more likely to churn compared to older customers. This may be due to younger individuals having less stable routines or more fluctuating interests, which can impact their long-term loyalty to the gym.\n",
    "\n",
    "- *Membership Duration and Promo Codes:* Customers with short-term memberships (e.g., 1-month subscriptions) are more prone to leaving the gym. Additionally, promotional codes may not be effective for customer retention. This could be because customers who joined via promotions might not have the same level of loyalty or long-term commitment to fitness.\n",
    "\n",
    "- *Visit Frequency and Group Classes:* Customers who visit the gym less frequently or do not participate in group classes are at a higher risk of churning. Group classes may provide extra motivation and social interaction, which can enhance customer retention.\n",
    "\n",
    "- *Overall Spending and Revenue:* Customers with lower total spending are more likely to leave the gym. It is important to develop strategies to increase overall spending, as higher engagement in additional services can enhance customer loyalty.\n",
    "\n",
    "- *Partnership Programs and Proximity:* Customers attracted through partnership programs may exhibit stronger loyalty and are more likely to remain members for the long term. Additionally, customers who live or work close to the gym are less likely to churn, suggesting that proximity plays a key role in retention.\n",
    "\n",
    "- *Contract Length and Remaining Term:* The remaining contract duration may significantly influence a customer’s decision to leave the gym. Customers with a short remaining contract period are at a higher risk of quitting once their contract expires."
   ]
  },
  {
   "cell_type": "markdown",
   "metadata": {},
   "source": [
    "## Customer Churn Prediction Model"
   ]
  },
  {
   "cell_type": "markdown",
   "metadata": {},
   "source": [
    "### Binary Classification Model for Customer Churn"
   ]
  },
  {
   "cell_type": "markdown",
   "metadata": {},
   "source": [
    "> We will develop a binary classification model to predict whether a customer will churn in the following month. The target variable is the churn status:\n",
    "> * Split the data into training and validation sets using the train_test_split() function.\n",
    "> * Train the model on the training set using two approaches:\n",
    "> 1. Logistic Regression\n",
    "> 2. Random Forest\n",
    "\n",
    "> Evaluating the metrics accuracy, precision, and recall for both models on the validation set and comparing their performance."
   ]
  },
  {
   "cell_type": "markdown",
   "metadata": {},
   "source": [
    "#### Logistic Regression Model"
   ]
  },
  {
   "cell_type": "code",
   "execution_count": 14,
   "metadata": {},
   "outputs": [],
   "source": [
    "# Splitting the data into features (matrix X) and target variable (y)\n",
    "X = gym_data.drop('Churn', axis = 1)\n",
    "y = gym_data['Churn']"
   ]
  },
  {
   "cell_type": "code",
   "execution_count": 15,
   "metadata": {},
   "outputs": [],
   "source": [
    "# Dividing the data into training and validation sets\n",
    "X_train, X_test, y_train, y_test = train_test_split(X, y, test_size=0.2, random_state=0)"
   ]
  },
  {
   "cell_type": "code",
   "execution_count": 16,
   "metadata": {},
   "outputs": [
    {
     "data": {
      "text/plain": [
       "LogisticRegression(solver='liblinear')"
      ]
     },
     "execution_count": 16,
     "metadata": {},
     "output_type": "execute_result"
    }
   ],
   "source": [
    "# Training the logistic regression model\n",
    "log_reg_model = LogisticRegression(solver='liblinear')\n",
    "log_reg_model.fit(X_train, y_train)"
   ]
  },
  {
   "cell_type": "code",
   "execution_count": 17,
   "metadata": {},
   "outputs": [],
   "source": [
    "# Generating predictions for the validation set\n",
    "y_pred_log_reg = log_reg_model.predict(X_test)"
   ]
  },
  {
   "cell_type": "code",
   "execution_count": 18,
   "metadata": {},
   "outputs": [
    {
     "data": {
      "text/plain": [
       "array([0, 1, 0, 1, 0, 0, 0, 0, 1, 0, 0, 1, 0, 0, 0, 1, 0, 0, 1, 0, 0, 0,\n",
       "       0, 0, 0, 1, 0, 0, 0, 0, 0, 0, 0, 0, 0, 0, 0, 0, 0, 0, 0, 0, 0, 0,\n",
       "       0, 1, 0, 0, 1, 1, 1, 0, 0, 0, 0, 1, 0, 0, 1, 0, 1, 1, 0, 0, 0, 0,\n",
       "       0, 0, 0, 0, 0, 0, 0, 0, 0, 0, 1, 1, 1, 0, 0, 0, 0, 0, 0, 1, 1, 0,\n",
       "       0, 0, 0, 0, 1, 0, 0, 0, 0, 0, 0, 1, 0, 1, 1, 0, 0, 0, 0, 0, 1, 0,\n",
       "       0, 0, 1, 1, 0, 0, 0, 1, 0, 0, 0, 0, 0, 1, 1, 0, 0, 0, 1, 0, 1, 0,\n",
       "       1, 0, 0, 0, 0, 1, 1, 1, 1, 1, 0, 1, 0, 1, 1, 1, 0, 0, 0, 1, 1, 0,\n",
       "       0, 1, 0, 1, 0, 1, 0, 0, 0, 1, 0, 0, 0, 0, 0, 1, 0, 0, 1, 0, 0, 0,\n",
       "       0, 0, 1, 0, 1, 1, 0, 0, 0, 1, 0, 0, 0, 0, 0, 0, 0, 0, 1, 0, 0, 0,\n",
       "       1, 0, 0, 0, 0, 0, 0, 0, 1, 0, 0, 0, 0, 0, 0, 0, 1, 0, 0, 0, 0, 0,\n",
       "       1, 0, 0, 0, 1, 1, 0, 0, 0, 0, 0, 0, 0, 0, 0, 0, 0, 0, 1, 0, 0, 0,\n",
       "       1, 0, 0, 0, 1, 0, 0, 0, 0, 1, 0, 0, 0, 0, 0, 1, 1, 0, 0, 0, 0, 0,\n",
       "       1, 1, 0, 0, 1, 0, 0, 1, 0, 0, 0, 0, 0, 1, 1, 0, 0, 0, 0, 0, 0, 0,\n",
       "       0, 0, 0, 0, 1, 0, 0, 0, 1, 1, 0, 0, 0, 0, 1, 0, 0, 1, 0, 0, 0, 0,\n",
       "       0, 0, 0, 1, 0, 0, 0, 0, 0, 0, 0, 0, 0, 0, 0, 0, 0, 0, 0, 0, 0, 0,\n",
       "       0, 0, 0, 0, 0, 1, 0, 1, 0, 1, 1, 0, 1, 0, 0, 0, 0, 0, 0, 0, 0, 0,\n",
       "       0, 0, 1, 0, 0, 1, 1, 0, 1, 1, 0, 1, 0, 1, 1, 0, 0, 0, 1, 0, 0, 1,\n",
       "       0, 1, 1, 1, 0, 0, 1, 1, 0, 0, 0, 0, 1, 0, 0, 0, 0, 0, 1, 0, 1, 0,\n",
       "       1, 0, 0, 1, 0, 0, 1, 0, 1, 0, 0, 0, 0, 0, 0, 0, 0, 0, 0, 0, 0, 0,\n",
       "       1, 0, 0, 0, 0, 0, 1, 0, 0, 1, 1, 0, 0, 0, 0, 1, 1, 0, 0, 1, 1, 0,\n",
       "       0, 0, 0, 0, 0, 0, 0, 1, 0, 0, 1, 0, 0, 0, 0, 1, 1, 0, 1, 0, 0, 0,\n",
       "       0, 1, 0, 0, 0, 0, 0, 1, 1, 0, 0, 0, 0, 1, 0, 1, 0, 1, 1, 0, 0, 0,\n",
       "       1, 0, 0, 0, 0, 1, 0, 0, 0, 0, 0, 0, 0, 0, 0, 0, 0, 0, 0, 0, 0, 0,\n",
       "       0, 1, 0, 0, 0, 0, 0, 0, 0, 0, 0, 0, 0, 1, 1, 0, 0, 0, 0, 0, 0, 0,\n",
       "       0, 0, 1, 0, 1, 0, 0, 0, 0, 1, 0, 0, 0, 1, 0, 0, 0, 0, 0, 1, 0, 1,\n",
       "       1, 0, 0, 0, 0, 0, 0, 0, 1, 0, 0, 0, 0, 1, 0, 0, 0, 0, 0, 0, 1, 0,\n",
       "       0, 0, 0, 1, 0, 0, 0, 0, 1, 0, 0, 0, 0, 0, 0, 1, 0, 0, 0, 0, 0, 0,\n",
       "       0, 0, 0, 0, 0, 0, 0, 0, 1, 1, 0, 1, 0, 1, 0, 0, 0, 1, 0, 0, 0, 1,\n",
       "       1, 1, 0, 0, 0, 1, 0, 0, 1, 0, 0, 0, 0, 0, 0, 0, 0, 0, 0, 0, 0, 1,\n",
       "       0, 0, 1, 1, 0, 0, 0, 0, 0, 1, 0, 0, 0, 1, 0, 0, 1, 0, 1, 0, 1, 1,\n",
       "       1, 0, 0, 1, 0, 0, 1, 0, 1, 0, 0, 0, 0, 0, 0, 0, 0, 0, 0, 0, 0, 0,\n",
       "       0, 0, 0, 1, 0, 0, 0, 0, 0, 1, 0, 0, 1, 0, 0, 0, 0, 1, 0, 0, 0, 0,\n",
       "       0, 0, 0, 0, 0, 1, 0, 0, 1, 0, 0, 0, 0, 1, 0, 0, 0, 0, 0, 0, 0, 1,\n",
       "       0, 0, 0, 1, 0, 1, 0, 0, 0, 0, 0, 1, 1, 1, 0, 0, 0, 0, 0, 0, 0, 1,\n",
       "       0, 0, 1, 1, 1, 1, 0, 0, 0, 0, 0, 0, 1, 0, 0, 0, 0, 0, 0, 1, 0, 0,\n",
       "       0, 0, 0, 0, 1, 1, 0, 1, 1, 0, 1, 1, 1, 1, 0, 1, 0, 0, 0, 0, 1, 1,\n",
       "       0, 1, 1, 1, 0, 0, 0, 0])"
      ]
     },
     "execution_count": 18,
     "metadata": {},
     "output_type": "execute_result"
    }
   ],
   "source": [
    "y_pred_log_reg "
   ]
  },
  {
   "cell_type": "code",
   "execution_count": 19,
   "metadata": {},
   "outputs": [],
   "source": [
    "# Calculating performance metrics for the logistic regression model\n",
    "accuracy_log_reg = accuracy_score(y_test, y_pred_log_reg)\n",
    "precision_log_reg = precision_score(y_test, y_pred_log_reg)\n",
    "recall_log_reg = recall_score(y_test, y_pred_log_reg)"
   ]
  },
  {
   "cell_type": "code",
   "execution_count": 20,
   "metadata": {},
   "outputs": [
    {
     "name": "stdout",
     "output_type": "stream",
     "text": [
      "Performance metrics for the logistic regression model:\n",
      "Accuracy: 0.88\n",
      "Precision: 0.76\n",
      "Recall: 0.77\n"
     ]
    }
   ],
   "source": [
    "# Displaying the performance metrics for the logistic regression model\n",
    "print(\"Performance metrics for the logistic regression model:\")  \n",
    "print(f\"Accuracy: {accuracy_log_reg:.2f}\")  \n",
    "print(f\"Precision: {precision_log_reg:.2f}\")  \n",
    "print(f\"Recall: {recall_log_reg:.2f}\")  "
   ]
  },
  {
   "cell_type": "markdown",
   "metadata": {},
   "source": [
    "#### Random Forest Model"
   ]
  },
  {
   "cell_type": "code",
   "execution_count": 21,
   "metadata": {},
   "outputs": [
    {
     "data": {
      "text/plain": [
       "RandomForestClassifier(random_state=0)"
      ]
     },
     "execution_count": 21,
     "metadata": {},
     "output_type": "execute_result"
    }
   ],
   "source": [
    "# Training the random forest model\n",
    "random_forest_model = RandomForestClassifier(random_state=0)\n",
    "random_forest_model.fit(X_train, y_train)"
   ]
  },
  {
   "cell_type": "code",
   "execution_count": 22,
   "metadata": {},
   "outputs": [],
   "source": [
    "y_pred_random_forest = random_forest_model.predict(X_test)"
   ]
  },
  {
   "cell_type": "code",
   "execution_count": 23,
   "metadata": {},
   "outputs": [
    {
     "data": {
      "text/plain": [
       "array([0, 1, 0, 1, 0, 0, 0, 0, 1, 0, 0, 0, 0, 0, 0, 0, 0, 0, 1, 0, 0, 0,\n",
       "       0, 0, 0, 0, 0, 0, 0, 0, 0, 0, 0, 1, 0, 0, 0, 0, 0, 0, 0, 0, 0, 0,\n",
       "       0, 1, 0, 0, 1, 1, 1, 0, 0, 0, 0, 1, 0, 1, 1, 0, 1, 1, 0, 0, 0, 0,\n",
       "       0, 0, 0, 0, 0, 0, 0, 0, 0, 0, 1, 0, 1, 0, 0, 0, 0, 0, 0, 1, 1, 0,\n",
       "       0, 0, 0, 0, 1, 0, 0, 0, 0, 0, 0, 1, 0, 0, 1, 0, 0, 0, 0, 0, 1, 0,\n",
       "       0, 0, 1, 0, 1, 0, 0, 1, 0, 0, 0, 0, 0, 1, 1, 0, 0, 0, 1, 0, 1, 0,\n",
       "       1, 0, 0, 0, 0, 0, 1, 1, 1, 1, 0, 1, 0, 0, 1, 1, 0, 0, 0, 1, 0, 0,\n",
       "       0, 1, 0, 1, 0, 1, 0, 0, 0, 1, 0, 0, 0, 0, 0, 1, 0, 0, 1, 0, 0, 0,\n",
       "       0, 0, 1, 0, 1, 1, 0, 0, 0, 1, 0, 0, 0, 0, 0, 0, 0, 0, 1, 0, 0, 0,\n",
       "       1, 0, 0, 0, 0, 0, 0, 0, 1, 0, 0, 0, 0, 0, 0, 0, 1, 0, 0, 0, 0, 0,\n",
       "       1, 0, 0, 0, 1, 1, 0, 0, 0, 0, 0, 0, 0, 0, 0, 0, 0, 0, 0, 0, 0, 0,\n",
       "       1, 0, 0, 0, 1, 0, 0, 0, 0, 0, 0, 0, 0, 0, 0, 1, 1, 0, 0, 0, 0, 0,\n",
       "       1, 1, 0, 0, 1, 0, 0, 1, 0, 0, 0, 0, 0, 1, 1, 0, 0, 0, 0, 0, 0, 0,\n",
       "       0, 0, 0, 0, 1, 0, 0, 0, 1, 1, 0, 0, 0, 0, 1, 0, 0, 1, 0, 0, 0, 0,\n",
       "       0, 0, 0, 0, 0, 0, 0, 0, 0, 0, 0, 0, 0, 1, 0, 0, 0, 0, 0, 0, 0, 0,\n",
       "       0, 0, 0, 0, 0, 1, 0, 1, 0, 1, 1, 0, 1, 0, 0, 0, 0, 0, 0, 0, 0, 0,\n",
       "       0, 0, 1, 0, 0, 1, 1, 0, 1, 1, 0, 1, 0, 1, 1, 0, 0, 0, 1, 0, 0, 1,\n",
       "       0, 1, 1, 1, 0, 0, 0, 1, 0, 0, 0, 0, 1, 0, 0, 0, 0, 0, 1, 0, 1, 0,\n",
       "       1, 0, 0, 1, 0, 0, 1, 0, 1, 0, 0, 0, 0, 0, 0, 0, 0, 0, 0, 0, 0, 0,\n",
       "       1, 0, 0, 0, 0, 0, 1, 0, 0, 1, 0, 0, 0, 0, 0, 1, 1, 0, 0, 0, 1, 0,\n",
       "       0, 0, 0, 0, 0, 0, 0, 1, 0, 0, 1, 0, 0, 0, 0, 1, 1, 0, 1, 0, 0, 0,\n",
       "       0, 1, 0, 0, 0, 0, 0, 1, 1, 0, 0, 0, 0, 0, 0, 1, 0, 1, 1, 0, 0, 0,\n",
       "       1, 0, 0, 0, 1, 1, 0, 0, 0, 0, 0, 0, 0, 0, 0, 0, 0, 0, 0, 0, 0, 0,\n",
       "       0, 1, 0, 0, 0, 0, 0, 0, 1, 0, 1, 0, 0, 1, 1, 0, 0, 0, 0, 0, 0, 0,\n",
       "       0, 0, 1, 0, 1, 0, 0, 0, 0, 1, 0, 0, 0, 1, 0, 0, 0, 0, 0, 1, 0, 1,\n",
       "       1, 0, 0, 1, 0, 0, 0, 0, 1, 0, 0, 0, 0, 1, 0, 0, 0, 0, 0, 0, 1, 1,\n",
       "       0, 0, 0, 1, 0, 0, 0, 0, 1, 1, 0, 0, 0, 0, 0, 1, 0, 0, 0, 0, 0, 0,\n",
       "       0, 0, 0, 0, 0, 0, 0, 0, 1, 1, 0, 1, 0, 1, 0, 0, 0, 1, 0, 0, 0, 1,\n",
       "       1, 1, 0, 0, 0, 1, 0, 0, 1, 0, 0, 0, 0, 0, 0, 0, 0, 0, 0, 0, 0, 1,\n",
       "       0, 0, 0, 1, 0, 0, 0, 0, 0, 1, 0, 0, 0, 0, 0, 0, 1, 0, 1, 0, 1, 1,\n",
       "       1, 0, 0, 1, 0, 0, 1, 0, 1, 0, 0, 0, 0, 0, 0, 0, 0, 0, 0, 0, 0, 0,\n",
       "       0, 0, 0, 1, 0, 0, 0, 0, 0, 1, 0, 0, 1, 0, 0, 0, 0, 1, 0, 0, 0, 0,\n",
       "       0, 0, 0, 0, 0, 1, 0, 0, 1, 0, 0, 0, 0, 1, 0, 0, 0, 0, 0, 1, 0, 1,\n",
       "       0, 0, 0, 1, 0, 0, 0, 0, 0, 0, 0, 1, 1, 1, 0, 0, 0, 0, 0, 0, 0, 1,\n",
       "       0, 0, 1, 1, 1, 1, 0, 0, 0, 0, 0, 0, 1, 0, 0, 0, 0, 0, 0, 1, 0, 0,\n",
       "       0, 0, 1, 0, 1, 1, 0, 1, 1, 0, 1, 1, 1, 1, 0, 1, 0, 0, 0, 0, 1, 1,\n",
       "       0, 1, 0, 1, 0, 1, 0, 0])"
      ]
     },
     "execution_count": 23,
     "metadata": {},
     "output_type": "execute_result"
    }
   ],
   "source": [
    "y_pred_random_forest"
   ]
  },
  {
   "cell_type": "code",
   "execution_count": 24,
   "metadata": {},
   "outputs": [],
   "source": [
    "# Calculating performance metrics for the random forest model\n",
    "accuracy_random_forest = accuracy_score(y_test, y_pred_random_forest)\n",
    "precision_random_forest = precision_score(y_test, y_pred_random_forest)\n",
    "recall_random_forest = recall_score(y_test, y_pred_random_forest)"
   ]
  },
  {
   "cell_type": "code",
   "execution_count": 25,
   "metadata": {},
   "outputs": [
    {
     "name": "stdout",
     "output_type": "stream",
     "text": [
      "\n",
      "Performance metrics for the random forest model:\n",
      "Accuracy: 0.89\n",
      "Precision: 0.78\n",
      "Recall: 0.77\n"
     ]
    }
   ],
   "source": [
    "# Displaying the performance metrics for the random forest model\n",
    "print(\"\\nPerformance metrics for the random forest model:\")  \n",
    "print(f\"Accuracy: {accuracy_random_forest:.2f}\")  \n",
    "print(f\"Precision: {precision_random_forest:.2f}\")  \n",
    "print(f\"Recall: {recall_random_forest:.2f}\")  "
   ]
  },
  {
   "cell_type": "markdown",
   "metadata": {},
   "source": [
    "### Intermediate Findings"
   ]
  },
  {
   "cell_type": "markdown",
   "metadata": {},
   "source": [
    "Both models demonstrate relatively high accuracy in predicting customer churn, indicating that they perform well overall. However, an analysis of the precision and recall metrics reveals the following:\n",
    "\n",
    "- Precision: The random forest model has a slightly higher precision (0.78) compared to the logistic regression model (0.76). This suggests that the random forest model is more accurate in identifying customers who will actually churn.\n",
    "\n",
    "- Recall: Both models achieve the same recall score (0.77), indicating that they are equally effective in identifying true positive cases of customer churn.\n",
    "\n",
    "Comparing the metrics, the random forest model performs slightly better than the logistic regression model. However, the difference in metric values is marginal."
   ]
  },
  {
   "cell_type": "markdown",
   "metadata": {},
   "source": [
    "## Customer Clustering"
   ]
  },
  {
   "cell_type": "markdown",
   "metadata": {},
   "source": [
    "1. Perform customer clustering: Standardize the data. Build a distance matrix using the linkage() function on the standardized feature matrix and visualize it with a dendrogram.\n",
    "\n",
    "2. Train a clustering model: Use the K-Means algorithm to create clusters and predict customer clusters.\n",
    "\n",
    "3. Analyze cluster characteristics: Create feature distributions for each cluster. Calculate the churn rate for each cluster."
   ]
  },
  {
   "cell_type": "code",
   "execution_count": 26,
   "metadata": {},
   "outputs": [],
   "source": [
    "# Standardize the data\n",
    "sc = StandardScaler()\n",
    "X_sc = sc.fit_transform(X)"
   ]
  },
  {
   "cell_type": "code",
   "execution_count": 27,
   "metadata": {},
   "outputs": [],
   "source": [
    "linked = linkage(X_sc, method = 'ward') "
   ]
  },
  {
   "cell_type": "code",
   "execution_count": 28,
   "metadata": {},
   "outputs": [
    {
     "data": {
      "image/png": "[encoded data removed]",
      "text/plain": [
       "<Figure size 1080x720 with 1 Axes>"
      ]
     },
     "metadata": {
      "needs_background": "light"
     },
     "output_type": "display_data"
    }
   ],
   "source": [
    "plt.figure(figsize=(15, 10))  \n",
    "dendrogram(linked, orientation='top')\n",
    "plt.title('Hierarchical Clustering')\n",
    "plt.show()"
   ]
  },
  {
   "cell_type": "code",
   "execution_count": 29,
   "metadata": {},
   "outputs": [],
   "source": [
    "# Based on the dendrogram, assume there are 5 clusters\n",
    "n_clusters = 5"
   ]
  },
  {
   "cell_type": "code",
   "execution_count": 30,
   "metadata": {},
   "outputs": [],
   "source": [
    "# Train the K-Means model\n",
    "kmeans = KMeans(n_clusters=n_clusters, random_state=0)\n",
    "clusters = kmeans.fit_predict(X_sc)"
   ]
  },
  {
   "cell_type": "code",
   "execution_count": 31,
   "metadata": {},
   "outputs": [],
   "source": [
    "# Add cluster information to the original dataset\n",
    "gym_data['Cluster'] = clusters"
   ]
  },
  {
   "cell_type": "code",
   "execution_count": 32,
   "metadata": {},
   "outputs": [
    {
     "data": {
      "text/html": [
       "<div>\n",
       "<style scoped>\n",
       "    .dataframe tbody tr th:only-of-type {\n",
       "        vertical-align: middle;\n",
       "    }\n",
       "\n",
       "    .dataframe tbody tr th {\n",
       "        vertical-align: top;\n",
       "    }\n",
       "\n",
       "    .dataframe thead th {\n",
       "        text-align: right;\n",
       "    }\n",
       "</style>\n",
       "<table border=\"1\" class=\"dataframe\">\n",
       "  <thead>\n",
       "    <tr style=\"text-align: right;\">\n",
       "      <th></th>\n",
       "      <th>gender</th>\n",
       "      <th>Near_Location</th>\n",
       "      <th>Partner</th>\n",
       "      <th>Promo_friends</th>\n",
       "      <th>Phone</th>\n",
       "      <th>Contract_period</th>\n",
       "      <th>Group_visits</th>\n",
       "      <th>Age</th>\n",
       "      <th>Avg_additional_charges_total</th>\n",
       "      <th>Lifetime</th>\n",
       "      <th>Avg_class_frequency_total</th>\n",
       "      <th>Churn</th>\n",
       "    </tr>\n",
       "    <tr>\n",
       "      <th>Cluster</th>\n",
       "      <th></th>\n",
       "      <th></th>\n",
       "      <th></th>\n",
       "      <th></th>\n",
       "      <th></th>\n",
       "      <th></th>\n",
       "      <th></th>\n",
       "      <th></th>\n",
       "      <th></th>\n",
       "      <th></th>\n",
       "      <th></th>\n",
       "      <th></th>\n",
       "    </tr>\n",
       "  </thead>\n",
       "  <tbody>\n",
       "    <tr>\n",
       "      <th>0</th>\n",
       "      <td>0.499109</td>\n",
       "      <td>0.000000</td>\n",
       "      <td>0.488414</td>\n",
       "      <td>0.076649</td>\n",
       "      <td>1.0</td>\n",
       "      <td>3.032086</td>\n",
       "      <td>0.235294</td>\n",
       "      <td>28.721925</td>\n",
       "      <td>137.540009</td>\n",
       "      <td>3.060606</td>\n",
       "      <td>1.770413</td>\n",
       "      <td>0.399287</td>\n",
       "    </tr>\n",
       "    <tr>\n",
       "      <th>1</th>\n",
       "      <td>0.488571</td>\n",
       "      <td>0.995238</td>\n",
       "      <td>0.955238</td>\n",
       "      <td>0.892381</td>\n",
       "      <td>1.0</td>\n",
       "      <td>7.660952</td>\n",
       "      <td>0.458095</td>\n",
       "      <td>29.543810</td>\n",
       "      <td>155.861428</td>\n",
       "      <td>4.380952</td>\n",
       "      <td>1.978963</td>\n",
       "      <td>0.120952</td>\n",
       "    </tr>\n",
       "    <tr>\n",
       "      <th>2</th>\n",
       "      <td>0.505300</td>\n",
       "      <td>1.000000</td>\n",
       "      <td>0.238516</td>\n",
       "      <td>0.059187</td>\n",
       "      <td>1.0</td>\n",
       "      <td>2.819788</td>\n",
       "      <td>0.000000</td>\n",
       "      <td>28.770318</td>\n",
       "      <td>143.383993</td>\n",
       "      <td>3.343640</td>\n",
       "      <td>1.800647</td>\n",
       "      <td>0.381625</td>\n",
       "    </tr>\n",
       "    <tr>\n",
       "      <th>3</th>\n",
       "      <td>0.544202</td>\n",
       "      <td>1.000000</td>\n",
       "      <td>0.250287</td>\n",
       "      <td>0.079219</td>\n",
       "      <td>1.0</td>\n",
       "      <td>4.528129</td>\n",
       "      <td>1.000000</td>\n",
       "      <td>29.536165</td>\n",
       "      <td>148.088897</td>\n",
       "      <td>3.761194</td>\n",
       "      <td>1.941342</td>\n",
       "      <td>0.200918</td>\n",
       "    </tr>\n",
       "    <tr>\n",
       "      <th>4</th>\n",
       "      <td>0.523316</td>\n",
       "      <td>0.862694</td>\n",
       "      <td>0.471503</td>\n",
       "      <td>0.305699</td>\n",
       "      <td>0.0</td>\n",
       "      <td>4.777202</td>\n",
       "      <td>0.427461</td>\n",
       "      <td>29.297927</td>\n",
       "      <td>144.208179</td>\n",
       "      <td>3.940415</td>\n",
       "      <td>1.854211</td>\n",
       "      <td>0.266839</td>\n",
       "    </tr>\n",
       "  </tbody>\n",
       "</table>\n",
       "</div>"
      ],
      "text/plain": [
       "           gender  Near_Location   Partner  Promo_friends  Phone  \\\n",
       "Cluster                                                            \n",
       "0        0.499109       0.000000  0.488414       0.076649    1.0   \n",
       "1        0.488571       0.995238  0.955238       0.892381    1.0   \n",
       "2        0.505300       1.000000  0.238516       0.059187    1.0   \n",
       "3        0.544202       1.000000  0.250287       0.079219    1.0   \n",
       "4        0.523316       0.862694  0.471503       0.305699    0.0   \n",
       "\n",
       "         Contract_period  Group_visits        Age  \\\n",
       "Cluster                                             \n",
       "0               3.032086      0.235294  28.721925   \n",
       "1               7.660952      0.458095  29.543810   \n",
       "2               2.819788      0.000000  28.770318   \n",
       "3               4.528129      1.000000  29.536165   \n",
       "4               4.777202      0.427461  29.297927   \n",
       "\n",
       "         Avg_additional_charges_total  Lifetime  Avg_class_frequency_total  \\\n",
       "Cluster                                                                      \n",
       "0                          137.540009  3.060606                   1.770413   \n",
       "1                          155.861428  4.380952                   1.978963   \n",
       "2                          143.383993  3.343640                   1.800647   \n",
       "3                          148.088897  3.761194                   1.941342   \n",
       "4                          144.208179  3.940415                   1.854211   \n",
       "\n",
       "            Churn  \n",
       "Cluster            \n",
       "0        0.399287  \n",
       "1        0.120952  \n",
       "2        0.381625  \n",
       "3        0.200918  \n",
       "4        0.266839  "
      ]
     },
     "execution_count": 32,
     "metadata": {},
     "output_type": "execute_result"
    }
   ],
   "source": [
    "cluster_means = gym_data.groupby('Cluster').mean()\n",
    "cluster_means"
   ]
  },
  {
   "cell_type": "code",
   "execution_count": 33,
   "metadata": {},
   "outputs": [
    {
     "data": {
      "image/png": "[encoded data removed]",
      "text/plain": [
       "<Figure size 432x288 with 1 Axes>"
      ]
     },
     "metadata": {
      "needs_background": "light"
     },
     "output_type": "display_data"
    },
    {
     "data": {
      "image/png": "[encoded data removed]",
      "text/plain": [
       "<Figure size 432x288 with 1 Axes>"
      ]
     },
     "metadata": {
      "needs_background": "light"
     },
     "output_type": "display_data"
    },
    {
     "data": {
      "image/png": "[encoded data removed]",
      "text/plain": [
       "<Figure size 432x288 with 1 Axes>"
      ]
     },
     "metadata": {
      "needs_background": "light"
     },
     "output_type": "display_data"
    },
    {
     "data": {
      "image/png": "[encoded data removed]",
      "text/plain": [
       "<Figure size 432x288 with 1 Axes>"
      ]
     },
     "metadata": {
      "needs_background": "light"
     },
     "output_type": "display_data"
    },
    {
     "data": {
      "image/png": "[encoded data removed]",
      "text/plain": [
       "<Figure size 432x288 with 1 Axes>"
      ]
     },
     "metadata": {
      "needs_background": "light"
     },
     "output_type": "display_data"
    },
    {
     "data": {
      "image/png": "[encoded data removed]",
      "text/plain": [
       "<Figure size 432x288 with 1 Axes>"
      ]
     },
     "metadata": {
      "needs_background": "light"
     },
     "output_type": "display_data"
    },
    {
     "data": {
      "image/png": "[encoded data removed]",
      "text/plain": [
       "<Figure size 432x288 with 1 Axes>"
      ]
     },
     "metadata": {
      "needs_background": "light"
     },
     "output_type": "display_data"
    },
    {
     "data": {
      "image/png": "[encoded data removed]",
      "text/plain": [
       "<Figure size 432x288 with 1 Axes>"
      ]
     },
     "metadata": {
      "needs_background": "light"
     },
     "output_type": "display_data"
    },
    {
     "data": {
      "image/png": "[encoded data removed]",
      "text/plain": [
       "<Figure size 432x288 with 1 Axes>"
      ]
     },
     "metadata": {
      "needs_background": "light"
     },
     "output_type": "display_data"
    },
    {
     "data": {
      "image/png": "[encoded data removed]",
      "text/plain": [
       "<Figure size 432x288 with 1 Axes>"
      ]
     },
     "metadata": {
      "needs_background": "light"
     },
     "output_type": "display_data"
    },
    {
     "data": {
      "image/png": "[encoded data removed]",
      "text/plain": [
       "<Figure size 432x288 with 1 Axes>"
      ]
     },
     "metadata": {
      "needs_background": "light"
     },
     "output_type": "display_data"
    }
   ],
   "source": [
    "for column in X.columns:\n",
    "    plt.figure()\n",
    "    sns.histplot(data=gym_data, x=column, hue='Cluster', bins=20)\n",
    "    plt.title(f'Distribution of {column} by Clusters')\n",
    "    plt.xlabel(column)\n",
    "    plt.ylabel('Number of Customers')\n",
    "    plt.show()"
   ]
  },
  {
   "cell_type": "code",
   "execution_count": 34,
   "metadata": {},
   "outputs": [
    {
     "data": {
      "text/plain": [
       "Cluster\n",
       "0    0.399287\n",
       "1    0.120952\n",
       "2    0.381625\n",
       "3    0.200918\n",
       "4    0.266839\n",
       "Name: Churn, dtype: float64"
      ]
     },
     "execution_count": 34,
     "metadata": {},
     "output_type": "execute_result"
    }
   ],
   "source": [
    "churn_percentage = gym_data.groupby('Cluster')['Churn'].mean()\n",
    "churn_percentage"
   ]
  },
  {
   "cell_type": "markdown",
   "metadata": {},
   "source": [
    "### Intermediate Findings"
   ]
  },
  {
   "cell_type": "markdown",
   "metadata": {},
   "source": [
    "An analysis of the average feature values for each cluster highlights the following characteristics:\n",
    "\n",
    "**Cluster 0:**\n",
    "\n",
    "- Nearly all clients neither live nor work near the fitness center.\n",
    "- Almost half of the clients participate in the partner program.\n",
    "- Very few clients joined through referral promo codes.\n",
    "- Almost all clients provided their phone numbers (likely a program requirement).\n",
    "- The average duration of the current contract is about 3 months.\n",
    "- The cluster has a noticeably low average number of group class attendances, possibly due to inconvenient scheduling for this group.\n",
    "- The average client age is around 29 years.\n",
    "- Average additional service spending is approximately 137.54.\n",
    "- The average client lifetime is about 3 months.\n",
    "- The average frequency of gym visits is around 1.77 times per week, the lowest among all clusters.\n",
    "- The churn rate in this cluster is about 40%, the highest among all clusters.\n",
    "\n",
    "**Cluster 1:**\n",
    "\n",
    "- Nearly all clients live or work near the fitness center.\n",
    "- Almost all clients participate in the partner program and joined through referral promo codes.\n",
    "- All clients provided their phone numbers.\n",
    "- The average duration of the current contract is about 7.66 months.\n",
    "- Approximately 46% of clients attend group classes.\n",
    "- The average client age is about 29.54 years.\n",
    "- Average additional service spending is approximately 155.86.\n",
    "- The average client lifetime is about 4.38 months.\n",
    "- The average frequency of gym visits is around 1.98 times per week.\n",
    "- The churn rate in this cluster is about 12%, the lowest among all clusters.\n",
    "\n",
    "**Cluster 2:**\n",
    "\n",
    "- Nearly all clients live or work near the fitness center.\n",
    "- A low proportion of clients (around 24%) participate in the partner program.\n",
    "- Few clients joined through referral promo codes.\n",
    "- All clients provided their phone numbers.\n",
    "- The average duration of the current contract is about 2.82 months.\n",
    "- This cluster has a low average number of group class attendances (participation is zero).\n",
    "- The average client age is about 28.77 years.\n",
    "- Average additional service spending is approximately 143.38.\n",
    "- The average client lifetime is about 3.34 months.\n",
    "- The average frequency of gym visits is around 1.80 times per week.\n",
    "- The churn rate in this cluster is about 38%.\n",
    "\n",
    "**Cluster 3:**\n",
    "\n",
    "- Nearly all clients live or work near the fitness center.\n",
    "- A low proportion of clients (about 25%) participate in the partner program.\n",
    "- Few clients joined through referral promo codes, the lowest percentage among all clusters.\n",
    "- All clients provided their phone numbers.\n",
    "- The average duration of the current contract is about 4.53 months.\n",
    "- Nearly all clients participate in group classes.\n",
    "- The average client age is about 29.54 years.\n",
    "- Average additional service spending is approximately 148.09.\n",
    "- The average client lifetime is about 3.76 months.\n",
    "- The average frequency of gym visits is around 1.94 times per week.\n",
    "- The churn rate in this cluster is about 20%.\n",
    "\n",
    "**Cluster 4:**\n",
    "\n",
    "- Most clients live or work near the fitness center.\n",
    "- Approximately half of the clients participate in the partner program.\n",
    "- Nearly a third of the clients joined through referral promo codes.\n",
    "- Few clients provided their phone numbers.\n",
    "- The average duration of the current contract is about 4.78 months.\n",
    "- Clients participate in group classes.\n",
    "- The average client age is about 29.30 years.\n",
    "- Average additional service spending is approximately 144.21.\n",
    "- The average client lifetime is about 3.94 months.\n",
    "- The average frequency of gym visits is around 1.85 times per week.\n",
    "- The churn rate in this cluster is about 27%."
   ]
  },
  {
   "cell_type": "markdown",
   "metadata": {},
   "source": [
    "## Conclusions and Basic Recommendations for Working with Clients"
   ]
  },
  {
   "cell_type": "markdown",
   "metadata": {},
   "source": [
    "Based on the analysis of customer clusters, the following conclusions can be drawn, along with key recommendations for client management:\n",
    "\n",
    "**Cluster 0:**\n",
    "\n",
    "- *Key Insight:* This cluster has the highest churn rate (around 40%), indicating it is the most vulnerable group of clients. Key factors contributing to churn include low fitness center visit frequency (around 1.77 times per week) and a short contract duration (around 3 months).\n",
    "- *Recommendations:* Offer attractive incentives to extend contracts for a longer term, as this could increase client loyalty. Consider offering personalized fitness plans to boost engagement and visit frequency.\n",
    "\n",
    "**Cluster 1:**\n",
    "\n",
    "- *Key Insight:* This cluster has the lowest churn rate (around 12%), indicating stability and high loyalty. Clients here are highly engaged in the partnership program, joined through friend referral promo codes, and actively participate in group classes.\n",
    "- *Recommendations:* Maintain a high level of service and offer attractive conditions for this cluster. Ensure regular communication and personalized offers to retain their loyalty and engagement.\n",
    "\n",
    "**Cluster 2:**\n",
    "\n",
    "- *Key Insight:* This cluster shows a high churn rate (around 38%), with clients having a low contract duration (around 2.82 months) and no participation in group classes.\n",
    "- *Recommendations:* Provide appealing offers to extend contracts and encourage participation in group classes. Consider offering trial group sessions or promotions to increase engagement and client retention.\n",
    "\n",
    "**Cluster 3:**\n",
    "\n",
    "- *Key Insight:* Cluster 3 has a moderate churn rate (around 20%), indicating stable client behavior. Clients here are active in group classes and have a relatively good contract duration (around 4.53 months).\n",
    "- *Recommendations:* Focus on maintaining and strengthening participation in group activities. Offer more competitive pricing for long-term contracts to enhance client loyalty and reduce churn.\n",
    "\n",
    "**Cluster 4:**\n",
    "\n",
    "- *Key Insight:* This cluster has a moderate churn rate (around 27%). Clients here have an average contract duration of 4.78 months and actively participate in group classes.\n",
    "- *Recommendations:* Implement initiatives to improve retention and contract extensions. Offering personalized services or exclusive group sessions could help keep clients engaged and encourage contract renewal.\n",
    "\n",
    "**General Recommendations for Client Management:**\n",
    "- Leverage Partnership Programs and Promo Codes. Actively utilize referral programs and promo codes to attract new clients and enhance retention.\n",
    "- Encourage Group Class Participation. Encourage clients to join group classes, as this is strongly linked to a lower churn rate.\n",
    "- Offer Incentives for Longer Contracts. Provide attractive proposals for extending contracts, helping to improve client retention and loyalty.\n",
    "- Focus on Service Quality. Strive to enhance the level of service and customer experience to increase loyalty and reduce churn across all clusters."
   ]
  }
 ],
 "metadata": {
  "ExecuteTimeLog": [
   {
    "duration": 1803,
    "start_time": "2023-07-21T13:25:05.006Z"
   },
   {
    "duration": 6,
    "start_time": "2023-07-21T13:25:14.446Z"
   },
   {
    "duration": 224,
    "start_time": "2023-07-21T13:27:24.603Z"
   },
   {
    "duration": 15,
    "start_time": "2023-07-21T13:27:43.201Z"
   },
   {
    "duration": 22,
    "start_time": "2023-07-21T13:29:41.009Z"
   },
   {
    "duration": 70,
    "start_time": "2023-07-21T13:30:02.567Z"
   },
   {
    "duration": 74,
    "start_time": "2023-07-22T10:43:02.105Z"
   },
   {
    "duration": 1643,
    "start_time": "2023-07-22T10:43:06.736Z"
   },
   {
    "duration": 145,
    "start_time": "2023-07-22T10:43:08.381Z"
   },
   {
    "duration": 26,
    "start_time": "2023-07-22T10:43:08.528Z"
   },
   {
    "duration": 13,
    "start_time": "2023-07-22T10:43:08.558Z"
   },
   {
    "duration": 60,
    "start_time": "2023-07-22T10:43:08.573Z"
   },
   {
    "duration": 2002,
    "start_time": "2023-07-22T10:43:08.634Z"
   },
   {
    "duration": 1848,
    "start_time": "2023-07-22T10:43:43.382Z"
   },
   {
    "duration": 1795,
    "start_time": "2023-07-22T11:13:48.899Z"
   },
   {
    "duration": 116,
    "start_time": "2023-07-22T11:43:18.008Z"
   },
   {
    "duration": 3,
    "start_time": "2023-07-22T11:44:43.088Z"
   },
   {
    "duration": 4,
    "start_time": "2023-07-22T11:44:51.411Z"
   },
   {
    "duration": 18,
    "start_time": "2023-07-22T11:45:02.416Z"
   },
   {
    "duration": 4,
    "start_time": "2023-07-22T11:45:50.360Z"
   },
   {
    "duration": 23,
    "start_time": "2023-07-22T11:46:00.813Z"
   },
   {
    "duration": 18,
    "start_time": "2023-07-22T11:46:20.532Z"
   },
   {
    "duration": 17,
    "start_time": "2023-07-22T11:47:58.519Z"
   },
   {
    "duration": 1838,
    "start_time": "2023-07-22T12:07:28.365Z"
   },
   {
    "duration": 6,
    "start_time": "2023-07-22T12:09:23.986Z"
   },
   {
    "duration": 3,
    "start_time": "2023-07-22T12:12:50.237Z"
   },
   {
    "duration": 3214,
    "start_time": "2023-07-22T12:14:23.714Z"
   },
   {
    "duration": 3093,
    "start_time": "2023-07-22T12:15:24.538Z"
   },
   {
    "duration": 3119,
    "start_time": "2023-07-22T12:16:38.431Z"
   },
   {
    "duration": 3305,
    "start_time": "2023-07-22T12:16:51.672Z"
   },
   {
    "duration": 15,
    "start_time": "2023-07-22T12:30:39.171Z"
   },
   {
    "duration": 236,
    "start_time": "2023-07-22T12:30:55.781Z"
   },
   {
    "duration": 1628,
    "start_time": "2023-07-22T12:31:00.451Z"
   },
   {
    "duration": 34,
    "start_time": "2023-07-22T12:31:02.081Z"
   },
   {
    "duration": 141,
    "start_time": "2023-07-22T12:31:02.117Z"
   },
   {
    "duration": 240,
    "start_time": "2023-07-22T12:31:02.260Z"
   },
   {
    "duration": 180,
    "start_time": "2023-07-22T12:31:02.503Z"
   },
   {
    "duration": 1976,
    "start_time": "2023-07-22T12:31:02.685Z"
   },
   {
    "duration": 19,
    "start_time": "2023-07-22T12:31:04.664Z"
   },
   {
    "duration": 6,
    "start_time": "2023-07-22T12:31:04.685Z"
   },
   {
    "duration": 21,
    "start_time": "2023-07-22T12:31:04.693Z"
   },
   {
    "duration": 1530,
    "start_time": "2023-07-22T12:31:04.716Z"
   },
   {
    "duration": 3280,
    "start_time": "2023-07-22T12:31:06.249Z"
   },
   {
    "duration": 1279,
    "start_time": "2023-07-22T12:32:59.543Z"
   },
   {
    "duration": 1014,
    "start_time": "2023-07-22T12:33:59.074Z"
   },
   {
    "duration": 1569,
    "start_time": "2023-07-22T12:35:39.659Z"
   },
   {
    "duration": 33,
    "start_time": "2023-07-22T12:35:41.230Z"
   },
   {
    "duration": 16,
    "start_time": "2023-07-22T12:35:41.265Z"
   },
   {
    "duration": 12,
    "start_time": "2023-07-22T12:35:41.283Z"
   },
   {
    "duration": 56,
    "start_time": "2023-07-22T12:35:41.297Z"
   },
   {
    "duration": 1862,
    "start_time": "2023-07-22T12:35:41.355Z"
   },
   {
    "duration": 18,
    "start_time": "2023-07-22T12:35:43.219Z"
   },
   {
    "duration": 11,
    "start_time": "2023-07-22T12:35:43.239Z"
   },
   {
    "duration": 9,
    "start_time": "2023-07-22T12:35:43.252Z"
   },
   {
    "duration": 1471,
    "start_time": "2023-07-22T12:35:43.263Z"
   },
   {
    "duration": 3120,
    "start_time": "2023-07-22T12:35:44.736Z"
   },
   {
    "duration": 7,
    "start_time": "2023-07-22T12:41:17.967Z"
   },
   {
    "duration": 4,
    "start_time": "2023-07-22T12:41:18.439Z"
   },
   {
    "duration": 3091,
    "start_time": "2023-07-22T12:41:19.146Z"
   },
   {
    "duration": 1747,
    "start_time": "2023-07-22T12:54:23.004Z"
   },
   {
    "duration": 3,
    "start_time": "2023-07-22T12:55:34.542Z"
   },
   {
    "duration": 3017,
    "start_time": "2023-07-22T12:55:36.796Z"
   },
   {
    "duration": 56,
    "start_time": "2023-07-22T15:38:47.145Z"
   },
   {
    "duration": 1777,
    "start_time": "2023-07-22T15:41:02.686Z"
   },
   {
    "duration": 131,
    "start_time": "2023-07-22T15:41:04.465Z"
   },
   {
    "duration": 17,
    "start_time": "2023-07-22T15:41:04.598Z"
   },
   {
    "duration": 12,
    "start_time": "2023-07-22T15:41:04.618Z"
   },
   {
    "duration": 66,
    "start_time": "2023-07-22T15:41:04.632Z"
   },
   {
    "duration": 1909,
    "start_time": "2023-07-22T15:41:04.700Z"
   },
   {
    "duration": 18,
    "start_time": "2023-07-22T15:41:06.611Z"
   },
   {
    "duration": 15,
    "start_time": "2023-07-22T15:41:06.630Z"
   },
   {
    "duration": 13,
    "start_time": "2023-07-22T15:41:06.647Z"
   },
   {
    "duration": 3163,
    "start_time": "2023-07-22T15:41:06.662Z"
   },
   {
    "duration": 1596,
    "start_time": "2023-07-22T15:41:09.827Z"
   },
   {
    "duration": 5,
    "start_time": "2023-07-22T15:41:11.424Z"
   },
   {
    "duration": 7,
    "start_time": "2023-07-22T15:42:31.331Z"
   },
   {
    "duration": 112,
    "start_time": "2023-07-22T15:51:26.438Z"
   },
   {
    "duration": 10,
    "start_time": "2023-07-22T15:51:33.283Z"
   },
   {
    "duration": 11,
    "start_time": "2023-07-22T15:51:47.017Z"
   },
   {
    "duration": 4,
    "start_time": "2023-07-22T15:52:38.966Z"
   },
   {
    "duration": 10,
    "start_time": "2023-07-22T15:53:10.905Z"
   },
   {
    "duration": 11,
    "start_time": "2023-07-22T15:53:15.659Z"
   },
   {
    "duration": 10,
    "start_time": "2023-07-22T15:53:18.221Z"
   },
   {
    "duration": 10,
    "start_time": "2023-07-22T15:53:50.082Z"
   },
   {
    "duration": 10,
    "start_time": "2023-07-22T15:54:03.899Z"
   },
   {
    "duration": 10,
    "start_time": "2023-07-22T15:54:11.519Z"
   },
   {
    "duration": 1528,
    "start_time": "2023-07-22T15:54:23.281Z"
   },
   {
    "duration": 64,
    "start_time": "2023-07-22T15:54:24.811Z"
   },
   {
    "duration": 16,
    "start_time": "2023-07-22T15:54:24.877Z"
   },
   {
    "duration": 17,
    "start_time": "2023-07-22T15:54:24.895Z"
   },
   {
    "duration": 155,
    "start_time": "2023-07-22T15:54:24.914Z"
   },
   {
    "duration": 2658,
    "start_time": "2023-07-22T15:54:25.071Z"
   },
   {
    "duration": 19,
    "start_time": "2023-07-22T15:54:27.731Z"
   },
   {
    "duration": 6,
    "start_time": "2023-07-22T15:54:27.752Z"
   },
   {
    "duration": 4,
    "start_time": "2023-07-22T15:54:27.760Z"
   },
   {
    "duration": 3289,
    "start_time": "2023-07-22T15:54:27.767Z"
   },
   {
    "duration": 1615,
    "start_time": "2023-07-22T15:54:31.059Z"
   },
   {
    "duration": 4,
    "start_time": "2023-07-22T15:54:32.676Z"
   },
   {
    "duration": 132,
    "start_time": "2023-07-22T15:54:32.682Z"
   },
   {
    "duration": 0,
    "start_time": "2023-07-22T15:54:32.816Z"
   },
   {
    "duration": 0,
    "start_time": "2023-07-22T15:54:32.818Z"
   },
   {
    "duration": 12,
    "start_time": "2023-07-22T15:54:49.470Z"
   },
   {
    "duration": 11,
    "start_time": "2023-07-22T15:54:57.721Z"
   },
   {
    "duration": 1582,
    "start_time": "2023-07-22T15:55:08.498Z"
   },
   {
    "duration": 37,
    "start_time": "2023-07-22T15:55:10.082Z"
   },
   {
    "duration": 59,
    "start_time": "2023-07-22T15:55:10.121Z"
   },
   {
    "duration": 18,
    "start_time": "2023-07-22T15:55:10.182Z"
   },
   {
    "duration": 108,
    "start_time": "2023-07-22T15:55:10.202Z"
   },
   {
    "duration": 3745,
    "start_time": "2023-07-22T15:55:10.312Z"
   },
   {
    "duration": 22,
    "start_time": "2023-07-22T15:55:14.060Z"
   },
   {
    "duration": 8,
    "start_time": "2023-07-22T15:55:14.084Z"
   },
   {
    "duration": 9,
    "start_time": "2023-07-22T15:55:14.094Z"
   },
   {
    "duration": 3295,
    "start_time": "2023-07-22T15:55:14.106Z"
   },
   {
    "duration": 1569,
    "start_time": "2023-07-22T15:55:17.402Z"
   },
   {
    "duration": 4,
    "start_time": "2023-07-22T15:55:18.973Z"
   },
   {
    "duration": 126,
    "start_time": "2023-07-22T15:55:18.978Z"
   },
   {
    "duration": 0,
    "start_time": "2023-07-22T15:55:19.106Z"
   },
   {
    "duration": 0,
    "start_time": "2023-07-22T15:55:19.107Z"
   },
   {
    "duration": 3,
    "start_time": "2023-07-22T15:55:38.206Z"
   },
   {
    "duration": 11,
    "start_time": "2023-07-22T15:55:46.330Z"
   },
   {
    "duration": 10,
    "start_time": "2023-07-22T15:55:58.351Z"
   },
   {
    "duration": 12,
    "start_time": "2023-07-22T15:57:36.037Z"
   },
   {
    "duration": 1553,
    "start_time": "2023-07-22T15:57:54.055Z"
   },
   {
    "duration": 36,
    "start_time": "2023-07-22T15:57:55.610Z"
   },
   {
    "duration": 17,
    "start_time": "2023-07-22T15:57:55.648Z"
   },
   {
    "duration": 21,
    "start_time": "2023-07-22T15:57:55.668Z"
   },
   {
    "duration": 96,
    "start_time": "2023-07-22T15:57:55.691Z"
   },
   {
    "duration": 2884,
    "start_time": "2023-07-22T15:57:55.789Z"
   },
   {
    "duration": 18,
    "start_time": "2023-07-22T15:57:58.675Z"
   },
   {
    "duration": 6,
    "start_time": "2023-07-22T15:57:58.695Z"
   },
   {
    "duration": 3,
    "start_time": "2023-07-22T15:57:58.702Z"
   },
   {
    "duration": 3137,
    "start_time": "2023-07-22T15:57:58.707Z"
   },
   {
    "duration": 1641,
    "start_time": "2023-07-22T15:58:01.847Z"
   },
   {
    "duration": 4,
    "start_time": "2023-07-22T15:58:03.490Z"
   },
   {
    "duration": 120,
    "start_time": "2023-07-22T15:58:03.496Z"
   },
   {
    "duration": 0,
    "start_time": "2023-07-22T15:58:03.618Z"
   },
   {
    "duration": 0,
    "start_time": "2023-07-22T15:58:03.620Z"
   },
   {
    "duration": 11,
    "start_time": "2023-07-22T15:59:53.611Z"
   },
   {
    "duration": 1517,
    "start_time": "2023-07-22T15:59:58.033Z"
   },
   {
    "duration": 36,
    "start_time": "2023-07-22T15:59:59.552Z"
   },
   {
    "duration": 17,
    "start_time": "2023-07-22T15:59:59.590Z"
   },
   {
    "duration": 14,
    "start_time": "2023-07-22T15:59:59.609Z"
   },
   {
    "duration": 55,
    "start_time": "2023-07-22T15:59:59.625Z"
   },
   {
    "duration": 3035,
    "start_time": "2023-07-22T15:59:59.682Z"
   },
   {
    "duration": 19,
    "start_time": "2023-07-22T16:00:02.719Z"
   },
   {
    "duration": 35,
    "start_time": "2023-07-22T16:00:02.740Z"
   },
   {
    "duration": 45,
    "start_time": "2023-07-22T16:00:02.777Z"
   },
   {
    "duration": 3301,
    "start_time": "2023-07-22T16:00:02.825Z"
   },
   {
    "duration": 1576,
    "start_time": "2023-07-22T16:00:06.128Z"
   },
   {
    "duration": 5,
    "start_time": "2023-07-22T16:00:07.706Z"
   },
   {
    "duration": 145,
    "start_time": "2023-07-22T16:00:07.713Z"
   },
   {
    "duration": 0,
    "start_time": "2023-07-22T16:00:07.860Z"
   },
   {
    "duration": 0,
    "start_time": "2023-07-22T16:00:07.861Z"
   },
   {
    "duration": 11,
    "start_time": "2023-07-22T16:00:21.753Z"
   },
   {
    "duration": 1516,
    "start_time": "2023-07-22T16:00:37.332Z"
   },
   {
    "duration": 37,
    "start_time": "2023-07-22T16:00:38.850Z"
   },
   {
    "duration": 18,
    "start_time": "2023-07-22T16:00:38.889Z"
   },
   {
    "duration": 60,
    "start_time": "2023-07-22T16:00:38.909Z"
   },
   {
    "duration": 102,
    "start_time": "2023-07-22T16:00:38.971Z"
   },
   {
    "duration": 2783,
    "start_time": "2023-07-22T16:00:39.074Z"
   },
   {
    "duration": 20,
    "start_time": "2023-07-22T16:00:41.860Z"
   },
   {
    "duration": 8,
    "start_time": "2023-07-22T16:00:41.882Z"
   },
   {
    "duration": 4,
    "start_time": "2023-07-22T16:00:41.892Z"
   },
   {
    "duration": 3252,
    "start_time": "2023-07-22T16:00:41.899Z"
   },
   {
    "duration": 1584,
    "start_time": "2023-07-22T16:00:45.153Z"
   },
   {
    "duration": 5,
    "start_time": "2023-07-22T16:00:46.739Z"
   },
   {
    "duration": 25,
    "start_time": "2023-07-22T16:00:46.746Z"
   },
   {
    "duration": 5,
    "start_time": "2023-07-22T16:00:46.773Z"
   },
   {
    "duration": 11,
    "start_time": "2023-07-22T16:00:46.780Z"
   },
   {
    "duration": 119,
    "start_time": "2023-07-22T16:01:12.974Z"
   },
   {
    "duration": 1907,
    "start_time": "2023-07-22T16:01:17.944Z"
   },
   {
    "duration": 36,
    "start_time": "2023-07-22T16:01:19.854Z"
   },
   {
    "duration": 17,
    "start_time": "2023-07-22T16:01:19.892Z"
   },
   {
    "duration": 12,
    "start_time": "2023-07-22T16:01:19.911Z"
   },
   {
    "duration": 57,
    "start_time": "2023-07-22T16:01:19.924Z"
   },
   {
    "duration": 3926,
    "start_time": "2023-07-22T16:01:19.983Z"
   },
   {
    "duration": 23,
    "start_time": "2023-07-22T16:01:23.912Z"
   },
   {
    "duration": 7,
    "start_time": "2023-07-22T16:01:23.937Z"
   },
   {
    "duration": 5,
    "start_time": "2023-07-22T16:01:23.946Z"
   },
   {
    "duration": 3154,
    "start_time": "2023-07-22T16:01:23.954Z"
   },
   {
    "duration": 1553,
    "start_time": "2023-07-22T16:01:27.110Z"
   },
   {
    "duration": 5,
    "start_time": "2023-07-22T16:01:28.667Z"
   },
   {
    "duration": 29,
    "start_time": "2023-07-22T16:01:28.673Z"
   },
   {
    "duration": 22,
    "start_time": "2023-07-22T16:01:28.704Z"
   },
   {
    "duration": 9,
    "start_time": "2023-07-22T16:01:28.728Z"
   },
   {
    "duration": 121,
    "start_time": "2023-07-22T16:01:49.165Z"
   },
   {
    "duration": 1557,
    "start_time": "2023-07-22T16:01:54.508Z"
   },
   {
    "duration": 40,
    "start_time": "2023-07-22T16:01:56.068Z"
   },
   {
    "duration": 63,
    "start_time": "2023-07-22T16:01:56.111Z"
   },
   {
    "duration": 16,
    "start_time": "2023-07-22T16:01:56.177Z"
   },
   {
    "duration": 106,
    "start_time": "2023-07-22T16:01:56.195Z"
   },
   {
    "duration": 3899,
    "start_time": "2023-07-22T16:01:56.303Z"
   },
   {
    "duration": 19,
    "start_time": "2023-07-22T16:02:00.204Z"
   },
   {
    "duration": 34,
    "start_time": "2023-07-22T16:02:00.225Z"
   },
   {
    "duration": 45,
    "start_time": "2023-07-22T16:02:00.261Z"
   },
   {
    "duration": 3319,
    "start_time": "2023-07-22T16:02:00.309Z"
   },
   {
    "duration": 2646,
    "start_time": "2023-07-22T16:02:03.630Z"
   },
   {
    "duration": 4,
    "start_time": "2023-07-22T16:02:06.278Z"
   },
   {
    "duration": 27,
    "start_time": "2023-07-22T16:02:06.284Z"
   },
   {
    "duration": 10,
    "start_time": "2023-07-22T16:02:06.313Z"
   },
   {
    "duration": 41,
    "start_time": "2023-07-22T16:02:06.325Z"
   },
   {
    "duration": 5,
    "start_time": "2023-07-22T16:04:54.337Z"
   },
   {
    "duration": 129,
    "start_time": "2023-07-22T16:05:24.996Z"
   },
   {
    "duration": 1565,
    "start_time": "2023-07-22T16:05:31.297Z"
   },
   {
    "duration": 36,
    "start_time": "2023-07-22T16:05:32.864Z"
   },
   {
    "duration": 23,
    "start_time": "2023-07-22T16:05:32.902Z"
   },
   {
    "duration": 17,
    "start_time": "2023-07-22T16:05:32.927Z"
   },
   {
    "duration": 56,
    "start_time": "2023-07-22T16:05:32.946Z"
   },
   {
    "duration": 2705,
    "start_time": "2023-07-22T16:05:33.004Z"
   },
   {
    "duration": 18,
    "start_time": "2023-07-22T16:05:35.711Z"
   },
   {
    "duration": 7,
    "start_time": "2023-07-22T16:05:35.768Z"
   },
   {
    "duration": 18,
    "start_time": "2023-07-22T16:05:35.777Z"
   },
   {
    "duration": 4899,
    "start_time": "2023-07-22T16:05:35.797Z"
   },
   {
    "duration": 2130,
    "start_time": "2023-07-22T16:05:40.697Z"
   },
   {
    "duration": 5,
    "start_time": "2023-07-22T16:05:42.829Z"
   },
   {
    "duration": 11,
    "start_time": "2023-07-22T16:05:42.835Z"
   },
   {
    "duration": 19,
    "start_time": "2023-07-22T16:05:42.848Z"
   },
   {
    "duration": 8,
    "start_time": "2023-07-22T16:05:42.869Z"
   },
   {
    "duration": 149,
    "start_time": "2023-07-22T16:13:12.012Z"
   },
   {
    "duration": 163,
    "start_time": "2023-07-22T16:13:37.654Z"
   },
   {
    "duration": 150,
    "start_time": "2023-07-22T16:13:59.314Z"
   },
   {
    "duration": 3,
    "start_time": "2023-07-22T17:07:43.419Z"
   },
   {
    "duration": 29,
    "start_time": "2023-07-22T17:08:10.280Z"
   },
   {
    "duration": 10,
    "start_time": "2023-07-22T17:08:33.928Z"
   },
   {
    "duration": 12,
    "start_time": "2023-07-22T17:08:47.413Z"
   },
   {
    "duration": 11,
    "start_time": "2023-07-22T17:08:55.001Z"
   },
   {
    "duration": 4,
    "start_time": "2023-07-22T17:09:08.849Z"
   },
   {
    "duration": 5,
    "start_time": "2023-07-22T17:09:09.320Z"
   },
   {
    "duration": 3,
    "start_time": "2023-07-22T17:09:09.760Z"
   },
   {
    "duration": 27,
    "start_time": "2023-07-22T17:09:10.183Z"
   },
   {
    "duration": 9,
    "start_time": "2023-07-22T17:09:10.541Z"
   },
   {
    "duration": 10,
    "start_time": "2023-07-22T17:09:11.283Z"
   },
   {
    "duration": 159,
    "start_time": "2023-07-22T17:15:16.016Z"
   },
   {
    "duration": 1231,
    "start_time": "2023-07-22T17:15:21.012Z"
   },
   {
    "duration": 47,
    "start_time": "2023-07-22T17:15:22.245Z"
   },
   {
    "duration": 17,
    "start_time": "2023-07-22T17:15:22.293Z"
   },
   {
    "duration": 14,
    "start_time": "2023-07-22T17:15:22.312Z"
   },
   {
    "duration": 65,
    "start_time": "2023-07-22T17:15:22.328Z"
   },
   {
    "duration": 2915,
    "start_time": "2023-07-22T17:15:22.394Z"
   },
   {
    "duration": 58,
    "start_time": "2023-07-22T17:15:25.311Z"
   },
   {
    "duration": 7,
    "start_time": "2023-07-22T17:15:25.371Z"
   },
   {
    "duration": 5,
    "start_time": "2023-07-22T17:15:25.381Z"
   },
   {
    "duration": 3510,
    "start_time": "2023-07-22T17:15:25.388Z"
   },
   {
    "duration": 1573,
    "start_time": "2023-07-22T17:15:28.900Z"
   },
   {
    "duration": 5,
    "start_time": "2023-07-22T17:15:30.475Z"
   },
   {
    "duration": 55,
    "start_time": "2023-07-22T17:15:30.482Z"
   },
   {
    "duration": 413,
    "start_time": "2023-07-22T17:15:30.540Z"
   },
   {
    "duration": 5,
    "start_time": "2023-07-22T17:15:30.955Z"
   },
   {
    "duration": 70,
    "start_time": "2023-07-22T17:15:30.962Z"
   },
   {
    "duration": 44,
    "start_time": "2023-07-22T17:15:31.034Z"
   },
   {
    "duration": 116,
    "start_time": "2023-07-22T17:15:31.081Z"
   },
   {
    "duration": 19,
    "start_time": "2023-07-22T17:15:31.199Z"
   },
   {
    "duration": 40,
    "start_time": "2023-07-22T17:15:31.220Z"
   },
   {
    "duration": 3,
    "start_time": "2023-07-22T17:16:16.061Z"
   },
   {
    "duration": 5,
    "start_time": "2023-07-22T17:16:17.015Z"
   },
   {
    "duration": 5,
    "start_time": "2023-07-22T17:16:18.140Z"
   },
   {
    "duration": 28,
    "start_time": "2023-07-22T17:16:19.045Z"
   },
   {
    "duration": 6,
    "start_time": "2023-07-22T17:16:55.480Z"
   },
   {
    "duration": 6,
    "start_time": "2023-07-22T17:17:20.475Z"
   },
   {
    "duration": 347,
    "start_time": "2023-07-22T17:19:44.864Z"
   },
   {
    "duration": 349,
    "start_time": "2023-07-22T17:20:02.097Z"
   },
   {
    "duration": 31,
    "start_time": "2023-07-22T17:20:18.292Z"
   },
   {
    "duration": 7,
    "start_time": "2023-07-22T17:20:30.938Z"
   },
   {
    "duration": 4,
    "start_time": "2023-07-22T17:21:19.904Z"
   },
   {
    "duration": 9,
    "start_time": "2023-07-22T17:21:44.571Z"
   },
   {
    "duration": 9,
    "start_time": "2023-07-22T17:22:07.679Z"
   },
   {
    "duration": 7,
    "start_time": "2023-07-22T17:22:22.213Z"
   },
   {
    "duration": 5,
    "start_time": "2023-07-22T17:22:49.585Z"
   },
   {
    "duration": 8,
    "start_time": "2023-07-22T17:24:08.464Z"
   },
   {
    "duration": 5,
    "start_time": "2023-07-22T17:24:09.436Z"
   },
   {
    "duration": 120,
    "start_time": "2023-07-22T17:32:03.054Z"
   },
   {
    "duration": 21,
    "start_time": "2023-07-22T17:32:36.114Z"
   },
   {
    "duration": 8,
    "start_time": "2023-07-22T17:32:36.696Z"
   },
   {
    "duration": 123094,
    "start_time": "2023-07-22T17:33:12.927Z"
   },
   {
    "duration": 8,
    "start_time": "2023-07-22T17:35:16.023Z"
   },
   {
    "duration": 125182,
    "start_time": "2023-07-22T17:36:36.185Z"
   },
   {
    "duration": 9,
    "start_time": "2023-07-22T17:38:47.263Z"
   },
   {
    "duration": 634,
    "start_time": "2023-07-22T17:38:48.021Z"
   },
   {
    "duration": 124955,
    "start_time": "2023-07-22T17:38:48.658Z"
   },
   {
    "duration": 3,
    "start_time": "2023-07-22T17:40:53.616Z"
   },
   {
    "duration": 3,
    "start_time": "2023-07-22T17:41:15.789Z"
   },
   {
    "duration": 1229,
    "start_time": "2023-07-22T17:41:16.341Z"
   },
   {
    "duration": 5,
    "start_time": "2023-07-22T17:41:17.576Z"
   },
   {
    "duration": 25,
    "start_time": "2023-07-22T17:41:17.666Z"
   },
   {
    "duration": 4937,
    "start_time": "2023-07-22T17:42:35.525Z"
   },
   {
    "duration": 5597,
    "start_time": "2023-07-22T17:43:01.318Z"
   },
   {
    "duration": 8,
    "start_time": "2023-07-22T17:44:51.992Z"
   },
   {
    "duration": 8,
    "start_time": "2023-07-22T17:44:55.559Z"
   },
   {
    "duration": 4781,
    "start_time": "2023-07-22T18:01:51.092Z"
   },
   {
    "duration": 4395,
    "start_time": "2023-07-22T18:06:37.043Z"
   },
   {
    "duration": 4874,
    "start_time": "2023-07-22T18:06:47.488Z"
   },
   {
    "duration": 1279,
    "start_time": "2023-07-22T18:34:18.516Z"
   },
   {
    "duration": 38,
    "start_time": "2023-07-22T18:34:19.797Z"
   },
   {
    "duration": 22,
    "start_time": "2023-07-22T18:34:19.837Z"
   },
   {
    "duration": 12,
    "start_time": "2023-07-22T18:34:19.862Z"
   },
   {
    "duration": 62,
    "start_time": "2023-07-22T18:34:19.876Z"
   },
   {
    "duration": 1757,
    "start_time": "2023-07-22T18:34:19.940Z"
   },
   {
    "duration": 18,
    "start_time": "2023-07-22T18:34:21.700Z"
   },
   {
    "duration": 5,
    "start_time": "2023-07-22T18:34:21.720Z"
   },
   {
    "duration": 15,
    "start_time": "2023-07-22T18:34:21.727Z"
   },
   {
    "duration": 4437,
    "start_time": "2023-07-22T18:34:21.744Z"
   },
   {
    "duration": 1520,
    "start_time": "2023-07-22T18:34:26.183Z"
   },
   {
    "duration": 5,
    "start_time": "2023-07-22T18:34:27.705Z"
   },
   {
    "duration": 10,
    "start_time": "2023-07-22T18:34:27.712Z"
   },
   {
    "duration": 410,
    "start_time": "2023-07-22T18:34:27.725Z"
   },
   {
    "duration": 6,
    "start_time": "2023-07-22T18:34:28.138Z"
   },
   {
    "duration": 16,
    "start_time": "2023-07-22T18:34:28.146Z"
   },
   {
    "duration": 34,
    "start_time": "2023-07-22T18:34:28.164Z"
   },
   {
    "duration": 5,
    "start_time": "2023-07-22T18:34:28.200Z"
   },
   {
    "duration": 18,
    "start_time": "2023-07-22T18:34:28.207Z"
   },
   {
    "duration": 7,
    "start_time": "2023-07-22T18:34:28.227Z"
   },
   {
    "duration": 5,
    "start_time": "2023-07-22T18:34:28.236Z"
   },
   {
    "duration": 348,
    "start_time": "2023-07-22T18:34:28.242Z"
   },
   {
    "duration": 32,
    "start_time": "2023-07-22T18:34:28.592Z"
   },
   {
    "duration": 6,
    "start_time": "2023-07-22T18:34:28.626Z"
   },
   {
    "duration": 45,
    "start_time": "2023-07-22T18:34:28.633Z"
   },
   {
    "duration": 22,
    "start_time": "2023-07-22T18:34:28.680Z"
   },
   {
    "duration": 27,
    "start_time": "2023-07-22T18:34:28.704Z"
   },
   {
    "duration": 9,
    "start_time": "2023-07-22T18:34:28.734Z"
   },
   {
    "duration": 670,
    "start_time": "2023-07-22T18:34:28.745Z"
   },
   {
    "duration": 1312,
    "start_time": "2023-07-22T19:02:21.994Z"
   },
   {
    "duration": 67,
    "start_time": "2023-07-22T19:02:23.307Z"
   },
   {
    "duration": 53,
    "start_time": "2023-07-22T21:07:01.869Z"
   },
   {
    "duration": 1439,
    "start_time": "2023-07-22T21:07:06.895Z"
   },
   {
    "duration": 130,
    "start_time": "2023-07-22T21:07:08.337Z"
   },
   {
    "duration": 16,
    "start_time": "2023-07-22T21:07:08.469Z"
   },
   {
    "duration": 20,
    "start_time": "2023-07-22T21:07:08.487Z"
   },
   {
    "duration": 60,
    "start_time": "2023-07-22T21:07:08.508Z"
   },
   {
    "duration": 1799,
    "start_time": "2023-07-22T21:07:08.570Z"
   },
   {
    "duration": 18,
    "start_time": "2023-07-22T21:07:10.371Z"
   },
   {
    "duration": 11,
    "start_time": "2023-07-22T21:07:10.391Z"
   },
   {
    "duration": 17,
    "start_time": "2023-07-22T21:07:10.403Z"
   },
   {
    "duration": 3208,
    "start_time": "2023-07-22T21:07:10.423Z"
   },
   {
    "duration": 1698,
    "start_time": "2023-07-22T21:07:13.634Z"
   },
   {
    "duration": 6,
    "start_time": "2023-07-22T21:07:15.334Z"
   },
   {
    "duration": 8,
    "start_time": "2023-07-22T21:07:15.342Z"
   },
   {
    "duration": 308,
    "start_time": "2023-07-22T21:07:15.368Z"
   },
   {
    "duration": 5,
    "start_time": "2023-07-22T21:07:15.678Z"
   },
   {
    "duration": 11,
    "start_time": "2023-07-22T21:07:15.685Z"
   },
   {
    "duration": 29,
    "start_time": "2023-07-22T21:07:15.698Z"
   },
   {
    "duration": 5,
    "start_time": "2023-07-22T21:07:15.729Z"
   },
   {
    "duration": 9,
    "start_time": "2023-07-22T21:07:15.736Z"
   },
   {
    "duration": 25,
    "start_time": "2023-07-22T21:07:15.746Z"
   },
   {
    "duration": 8,
    "start_time": "2023-07-22T21:07:15.773Z"
   },
   {
    "duration": 343,
    "start_time": "2023-07-22T21:07:15.782Z"
   },
   {
    "duration": 40,
    "start_time": "2023-07-22T21:07:16.127Z"
   },
   {
    "duration": 5,
    "start_time": "2023-07-22T21:07:16.169Z"
   },
   {
    "duration": 20,
    "start_time": "2023-07-22T21:07:16.176Z"
   },
   {
    "duration": 4,
    "start_time": "2023-07-22T21:07:16.198Z"
   },
   {
    "duration": 43,
    "start_time": "2023-07-22T21:07:16.204Z"
   },
   {
    "duration": 11,
    "start_time": "2023-07-22T21:07:16.250Z"
   },
   {
    "duration": 664,
    "start_time": "2023-07-22T21:07:16.263Z"
   },
   {
    "duration": 120895,
    "start_time": "2023-07-22T21:07:16.929Z"
   },
   {
    "duration": 4,
    "start_time": "2023-07-22T21:09:17.825Z"
   },
   {
    "duration": 141,
    "start_time": "2023-07-22T21:09:17.830Z"
   },
   {
    "duration": 0,
    "start_time": "2023-07-22T21:09:17.973Z"
   },
   {
    "duration": 0,
    "start_time": "2023-07-22T21:09:17.974Z"
   },
   {
    "duration": 0,
    "start_time": "2023-07-22T21:09:17.975Z"
   },
   {
    "duration": 0,
    "start_time": "2023-07-22T21:09:17.976Z"
   },
   {
    "duration": 11,
    "start_time": "2023-07-22T21:12:18.291Z"
   },
   {
    "duration": 1334,
    "start_time": "2023-07-22T21:12:27.198Z"
   },
   {
    "duration": 0,
    "start_time": "2023-07-22T21:12:28.534Z"
   },
   {
    "duration": 0,
    "start_time": "2023-07-22T21:12:28.536Z"
   },
   {
    "duration": 0,
    "start_time": "2023-07-22T21:12:28.537Z"
   },
   {
    "duration": 0,
    "start_time": "2023-07-22T21:12:28.538Z"
   },
   {
    "duration": 0,
    "start_time": "2023-07-22T21:12:28.539Z"
   },
   {
    "duration": 0,
    "start_time": "2023-07-22T21:12:28.540Z"
   },
   {
    "duration": 0,
    "start_time": "2023-07-22T21:12:28.541Z"
   },
   {
    "duration": 0,
    "start_time": "2023-07-22T21:12:28.542Z"
   },
   {
    "duration": 0,
    "start_time": "2023-07-22T21:12:28.543Z"
   },
   {
    "duration": 0,
    "start_time": "2023-07-22T21:12:28.544Z"
   },
   {
    "duration": 0,
    "start_time": "2023-07-22T21:12:28.545Z"
   },
   {
    "duration": 0,
    "start_time": "2023-07-22T21:12:28.546Z"
   },
   {
    "duration": 0,
    "start_time": "2023-07-22T21:12:28.547Z"
   },
   {
    "duration": 0,
    "start_time": "2023-07-22T21:12:28.567Z"
   },
   {
    "duration": 0,
    "start_time": "2023-07-22T21:12:28.569Z"
   },
   {
    "duration": 0,
    "start_time": "2023-07-22T21:12:28.570Z"
   },
   {
    "duration": 0,
    "start_time": "2023-07-22T21:12:28.572Z"
   },
   {
    "duration": 0,
    "start_time": "2023-07-22T21:12:28.573Z"
   },
   {
    "duration": 0,
    "start_time": "2023-07-22T21:12:28.574Z"
   },
   {
    "duration": 0,
    "start_time": "2023-07-22T21:12:28.575Z"
   },
   {
    "duration": 0,
    "start_time": "2023-07-22T21:12:28.576Z"
   },
   {
    "duration": 0,
    "start_time": "2023-07-22T21:12:28.577Z"
   },
   {
    "duration": 0,
    "start_time": "2023-07-22T21:12:28.578Z"
   },
   {
    "duration": 1,
    "start_time": "2023-07-22T21:12:28.579Z"
   },
   {
    "duration": 0,
    "start_time": "2023-07-22T21:12:28.581Z"
   },
   {
    "duration": 0,
    "start_time": "2023-07-22T21:12:28.582Z"
   },
   {
    "duration": 0,
    "start_time": "2023-07-22T21:12:28.583Z"
   },
   {
    "duration": 0,
    "start_time": "2023-07-22T21:12:28.584Z"
   },
   {
    "duration": 0,
    "start_time": "2023-07-22T21:12:28.585Z"
   },
   {
    "duration": 0,
    "start_time": "2023-07-22T21:12:28.586Z"
   },
   {
    "duration": 0,
    "start_time": "2023-07-22T21:12:28.587Z"
   },
   {
    "duration": 0,
    "start_time": "2023-07-22T21:12:28.589Z"
   },
   {
    "duration": 0,
    "start_time": "2023-07-22T21:12:28.590Z"
   },
   {
    "duration": 0,
    "start_time": "2023-07-22T21:12:28.592Z"
   },
   {
    "duration": 0,
    "start_time": "2023-07-22T21:12:28.592Z"
   },
   {
    "duration": 10,
    "start_time": "2023-07-22T21:13:26.586Z"
   },
   {
    "duration": 11,
    "start_time": "2023-07-22T21:13:49.182Z"
   },
   {
    "duration": 1336,
    "start_time": "2023-07-22T21:13:54.576Z"
   },
   {
    "duration": 0,
    "start_time": "2023-07-22T21:13:55.914Z"
   },
   {
    "duration": 0,
    "start_time": "2023-07-22T21:13:55.915Z"
   },
   {
    "duration": 0,
    "start_time": "2023-07-22T21:13:55.917Z"
   },
   {
    "duration": 0,
    "start_time": "2023-07-22T21:13:55.918Z"
   },
   {
    "duration": 0,
    "start_time": "2023-07-22T21:13:55.919Z"
   },
   {
    "duration": 0,
    "start_time": "2023-07-22T21:13:55.920Z"
   },
   {
    "duration": 0,
    "start_time": "2023-07-22T21:13:55.921Z"
   },
   {
    "duration": 0,
    "start_time": "2023-07-22T21:13:55.922Z"
   },
   {
    "duration": 0,
    "start_time": "2023-07-22T21:13:55.923Z"
   },
   {
    "duration": 0,
    "start_time": "2023-07-22T21:13:55.924Z"
   },
   {
    "duration": 0,
    "start_time": "2023-07-22T21:13:55.925Z"
   },
   {
    "duration": 0,
    "start_time": "2023-07-22T21:13:55.926Z"
   },
   {
    "duration": 0,
    "start_time": "2023-07-22T21:13:55.927Z"
   },
   {
    "duration": 0,
    "start_time": "2023-07-22T21:13:55.929Z"
   },
   {
    "duration": 0,
    "start_time": "2023-07-22T21:13:55.930Z"
   },
   {
    "duration": 0,
    "start_time": "2023-07-22T21:13:55.931Z"
   },
   {
    "duration": 0,
    "start_time": "2023-07-22T21:13:55.932Z"
   },
   {
    "duration": 0,
    "start_time": "2023-07-22T21:13:55.933Z"
   },
   {
    "duration": 0,
    "start_time": "2023-07-22T21:13:55.934Z"
   },
   {
    "duration": 0,
    "start_time": "2023-07-22T21:13:55.936Z"
   },
   {
    "duration": 0,
    "start_time": "2023-07-22T21:13:55.967Z"
   },
   {
    "duration": 0,
    "start_time": "2023-07-22T21:13:55.969Z"
   },
   {
    "duration": 0,
    "start_time": "2023-07-22T21:13:55.969Z"
   },
   {
    "duration": 0,
    "start_time": "2023-07-22T21:13:55.971Z"
   },
   {
    "duration": 0,
    "start_time": "2023-07-22T21:13:55.972Z"
   },
   {
    "duration": 0,
    "start_time": "2023-07-22T21:13:55.973Z"
   },
   {
    "duration": 0,
    "start_time": "2023-07-22T21:13:55.974Z"
   },
   {
    "duration": 0,
    "start_time": "2023-07-22T21:13:55.975Z"
   },
   {
    "duration": 0,
    "start_time": "2023-07-22T21:13:55.976Z"
   },
   {
    "duration": 0,
    "start_time": "2023-07-22T21:13:55.977Z"
   },
   {
    "duration": 0,
    "start_time": "2023-07-22T21:13:55.978Z"
   },
   {
    "duration": 0,
    "start_time": "2023-07-22T21:13:55.979Z"
   },
   {
    "duration": 0,
    "start_time": "2023-07-22T21:13:55.980Z"
   },
   {
    "duration": 0,
    "start_time": "2023-07-22T21:13:55.981Z"
   },
   {
    "duration": 0,
    "start_time": "2023-07-22T21:13:55.982Z"
   },
   {
    "duration": 3,
    "start_time": "2023-07-22T21:14:08.812Z"
   },
   {
    "duration": 1303,
    "start_time": "2023-07-22T21:14:13.460Z"
   },
   {
    "duration": 34,
    "start_time": "2023-07-22T21:14:14.765Z"
   },
   {
    "duration": 16,
    "start_time": "2023-07-22T21:14:14.801Z"
   },
   {
    "duration": 13,
    "start_time": "2023-07-22T21:14:14.819Z"
   },
   {
    "duration": 57,
    "start_time": "2023-07-22T21:14:14.833Z"
   },
   {
    "duration": 2801,
    "start_time": "2023-07-22T21:14:14.892Z"
   },
   {
    "duration": 21,
    "start_time": "2023-07-22T21:14:17.695Z"
   },
   {
    "duration": 6,
    "start_time": "2023-07-22T21:14:17.717Z"
   },
   {
    "duration": 6,
    "start_time": "2023-07-22T21:14:17.724Z"
   },
   {
    "duration": 3204,
    "start_time": "2023-07-22T21:14:17.732Z"
   },
   {
    "duration": 1562,
    "start_time": "2023-07-22T21:14:20.937Z"
   },
   {
    "duration": 4,
    "start_time": "2023-07-22T21:14:22.501Z"
   },
   {
    "duration": 21,
    "start_time": "2023-07-22T21:14:22.507Z"
   },
   {
    "duration": 338,
    "start_time": "2023-07-22T21:14:22.530Z"
   },
   {
    "duration": 6,
    "start_time": "2023-07-22T21:14:22.870Z"
   },
   {
    "duration": 8,
    "start_time": "2023-07-22T21:14:22.877Z"
   },
   {
    "duration": 32,
    "start_time": "2023-07-22T21:14:22.888Z"
   },
   {
    "duration": 5,
    "start_time": "2023-07-22T21:14:22.922Z"
   },
   {
    "duration": 13,
    "start_time": "2023-07-22T21:14:22.929Z"
   },
   {
    "duration": 28,
    "start_time": "2023-07-22T21:14:22.944Z"
   },
   {
    "duration": 8,
    "start_time": "2023-07-22T21:14:22.974Z"
   },
   {
    "duration": 361,
    "start_time": "2023-07-22T21:14:22.984Z"
   },
   {
    "duration": 38,
    "start_time": "2023-07-22T21:14:23.347Z"
   },
   {
    "duration": 5,
    "start_time": "2023-07-22T21:14:23.387Z"
   },
   {
    "duration": 55,
    "start_time": "2023-07-22T21:14:23.394Z"
   },
   {
    "duration": 19,
    "start_time": "2023-07-22T21:14:23.450Z"
   },
   {
    "duration": 21,
    "start_time": "2023-07-22T21:14:23.471Z"
   },
   {
    "duration": 8,
    "start_time": "2023-07-22T21:14:23.495Z"
   },
   {
    "duration": 677,
    "start_time": "2023-07-22T21:14:23.504Z"
   },
   {
    "duration": 121918,
    "start_time": "2023-07-22T21:14:24.183Z"
   },
   {
    "duration": 2,
    "start_time": "2023-07-22T21:16:26.103Z"
   },
   {
    "duration": 134,
    "start_time": "2023-07-22T21:16:26.107Z"
   },
   {
    "duration": 0,
    "start_time": "2023-07-22T21:16:26.243Z"
   },
   {
    "duration": 0,
    "start_time": "2023-07-22T21:16:26.244Z"
   },
   {
    "duration": 0,
    "start_time": "2023-07-22T21:16:26.245Z"
   },
   {
    "duration": 0,
    "start_time": "2023-07-22T21:16:26.246Z"
   },
   {
    "duration": 11,
    "start_time": "2023-07-22T21:16:37.093Z"
   },
   {
    "duration": 1290,
    "start_time": "2023-07-22T21:16:52.177Z"
   },
   {
    "duration": 34,
    "start_time": "2023-07-22T21:16:53.469Z"
   },
   {
    "duration": 18,
    "start_time": "2023-07-22T21:16:53.505Z"
   },
   {
    "duration": 12,
    "start_time": "2023-07-22T21:16:53.525Z"
   },
   {
    "duration": 51,
    "start_time": "2023-07-22T21:16:53.538Z"
   },
   {
    "duration": 1895,
    "start_time": "2023-07-22T21:16:53.590Z"
   },
   {
    "duration": 18,
    "start_time": "2023-07-22T21:16:55.487Z"
   },
   {
    "duration": 5,
    "start_time": "2023-07-22T21:16:55.507Z"
   },
   {
    "duration": 6,
    "start_time": "2023-07-22T21:16:55.514Z"
   },
   {
    "duration": 3234,
    "start_time": "2023-07-22T21:16:55.522Z"
   },
   {
    "duration": 1578,
    "start_time": "2023-07-22T21:16:58.758Z"
   },
   {
    "duration": 5,
    "start_time": "2023-07-22T21:17:00.338Z"
   },
   {
    "duration": 138,
    "start_time": "2023-07-22T21:17:00.345Z"
   },
   {
    "duration": 389,
    "start_time": "2023-07-22T21:17:00.485Z"
   },
   {
    "duration": 5,
    "start_time": "2023-07-22T21:17:00.876Z"
   },
   {
    "duration": 48,
    "start_time": "2023-07-22T21:17:00.883Z"
   },
   {
    "duration": 50,
    "start_time": "2023-07-22T21:17:00.933Z"
   },
   {
    "duration": 36,
    "start_time": "2023-07-22T21:17:00.985Z"
   },
   {
    "duration": 64,
    "start_time": "2023-07-22T21:17:01.023Z"
   },
   {
    "duration": 70,
    "start_time": "2023-07-22T21:17:01.089Z"
   },
   {
    "duration": 127,
    "start_time": "2023-07-22T21:17:01.161Z"
   },
   {
    "duration": 412,
    "start_time": "2023-07-22T21:17:01.291Z"
   },
   {
    "duration": 42,
    "start_time": "2023-07-22T21:17:01.706Z"
   },
   {
    "duration": 53,
    "start_time": "2023-07-22T21:17:01.750Z"
   },
   {
    "duration": 69,
    "start_time": "2023-07-22T21:17:01.805Z"
   },
   {
    "duration": 70,
    "start_time": "2023-07-22T21:17:01.876Z"
   },
   {
    "duration": 81,
    "start_time": "2023-07-22T21:17:01.948Z"
   },
   {
    "duration": 32,
    "start_time": "2023-07-22T21:17:02.033Z"
   },
   {
    "duration": 750,
    "start_time": "2023-07-22T21:17:02.068Z"
   },
   {
    "duration": 122609,
    "start_time": "2023-07-22T21:17:02.821Z"
   },
   {
    "duration": 2,
    "start_time": "2023-07-22T21:19:05.432Z"
   },
   {
    "duration": 140,
    "start_time": "2023-07-22T21:19:05.436Z"
   },
   {
    "duration": 0,
    "start_time": "2023-07-22T21:19:05.578Z"
   },
   {
    "duration": 0,
    "start_time": "2023-07-22T21:19:05.579Z"
   },
   {
    "duration": 0,
    "start_time": "2023-07-22T21:19:05.580Z"
   },
   {
    "duration": 0,
    "start_time": "2023-07-22T21:19:05.581Z"
   },
   {
    "duration": 1576,
    "start_time": "2023-07-22T21:20:09.808Z"
   },
   {
    "duration": 35,
    "start_time": "2023-07-22T21:20:11.386Z"
   },
   {
    "duration": 18,
    "start_time": "2023-07-22T21:20:11.422Z"
   },
   {
    "duration": 17,
    "start_time": "2023-07-22T21:20:11.442Z"
   },
   {
    "duration": 50,
    "start_time": "2023-07-22T21:20:11.461Z"
   },
   {
    "duration": 2024,
    "start_time": "2023-07-22T21:20:11.513Z"
   },
   {
    "duration": 18,
    "start_time": "2023-07-22T21:20:13.539Z"
   },
   {
    "duration": 8,
    "start_time": "2023-07-22T21:20:13.559Z"
   },
   {
    "duration": 7,
    "start_time": "2023-07-22T21:20:13.569Z"
   },
   {
    "duration": 3183,
    "start_time": "2023-07-22T21:20:13.579Z"
   },
   {
    "duration": 1516,
    "start_time": "2023-07-22T21:20:16.764Z"
   },
   {
    "duration": 4,
    "start_time": "2023-07-22T21:20:18.281Z"
   },
   {
    "duration": 43,
    "start_time": "2023-07-22T21:20:18.287Z"
   },
   {
    "duration": 10,
    "start_time": "2023-07-22T21:20:18.332Z"
   },
   {
    "duration": 8,
    "start_time": "2023-07-22T21:20:18.344Z"
   },
   {
    "duration": 42,
    "start_time": "2023-07-22T21:20:18.354Z"
   },
   {
    "duration": 5,
    "start_time": "2023-07-22T21:20:18.397Z"
   },
   {
    "duration": 15,
    "start_time": "2023-07-22T21:20:18.404Z"
   },
   {
    "duration": 15,
    "start_time": "2023-07-22T21:20:18.421Z"
   },
   {
    "duration": 16,
    "start_time": "2023-07-22T21:20:18.439Z"
   },
   {
    "duration": 326,
    "start_time": "2023-07-22T21:20:18.457Z"
   },
   {
    "duration": 29,
    "start_time": "2023-07-22T21:20:18.785Z"
   },
   {
    "duration": 6,
    "start_time": "2023-07-22T21:20:18.816Z"
   },
   {
    "duration": 16,
    "start_time": "2023-07-22T21:20:18.824Z"
   },
   {
    "duration": 8,
    "start_time": "2023-07-22T21:20:18.842Z"
   },
   {
    "duration": 8,
    "start_time": "2023-07-22T21:20:18.867Z"
   },
   {
    "duration": 652,
    "start_time": "2023-07-22T21:20:18.877Z"
   },
   {
    "duration": 119412,
    "start_time": "2023-07-22T21:20:19.532Z"
   },
   {
    "duration": 2,
    "start_time": "2023-07-22T21:22:18.946Z"
   },
   {
    "duration": 130,
    "start_time": "2023-07-22T21:22:18.951Z"
   },
   {
    "duration": 0,
    "start_time": "2023-07-22T21:22:19.083Z"
   },
   {
    "duration": 0,
    "start_time": "2023-07-22T21:22:19.085Z"
   },
   {
    "duration": 0,
    "start_time": "2023-07-22T21:22:19.086Z"
   },
   {
    "duration": 0,
    "start_time": "2023-07-22T21:22:19.088Z"
   },
   {
    "duration": 1212,
    "start_time": "2023-07-22T21:28:29.355Z"
   },
   {
    "duration": 4,
    "start_time": "2023-07-22T21:28:35.167Z"
   },
   {
    "duration": 19,
    "start_time": "2023-07-22T21:28:36.969Z"
   },
   {
    "duration": 4726,
    "start_time": "2023-07-22T21:28:44.614Z"
   },
   {
    "duration": 9,
    "start_time": "2023-07-22T21:28:51.341Z"
   },
   {
    "duration": 1728,
    "start_time": "2024-11-26T15:33:28.476Z"
   },
   {
    "duration": 152,
    "start_time": "2024-11-26T15:33:30.206Z"
   },
   {
    "duration": 16,
    "start_time": "2024-11-26T15:33:30.359Z"
   },
   {
    "duration": 114,
    "start_time": "2024-11-26T15:33:30.378Z"
   },
   {
    "duration": 176,
    "start_time": "2024-11-26T15:33:30.494Z"
   },
   {
    "duration": 1882,
    "start_time": "2024-11-26T15:33:30.672Z"
   },
   {
    "duration": 17,
    "start_time": "2024-11-26T15:33:32.556Z"
   },
   {
    "duration": 5,
    "start_time": "2024-11-26T15:33:32.575Z"
   },
   {
    "duration": 30,
    "start_time": "2024-11-26T15:33:32.583Z"
   },
   {
    "duration": 3077,
    "start_time": "2024-11-26T15:33:32.616Z"
   },
   {
    "duration": 1600,
    "start_time": "2024-11-26T15:33:35.697Z"
   },
   {
    "duration": 4,
    "start_time": "2024-11-26T15:33:37.299Z"
   },
   {
    "duration": 12,
    "start_time": "2024-11-26T15:33:37.305Z"
   },
   {
    "duration": 35,
    "start_time": "2024-11-26T15:33:37.319Z"
   },
   {
    "duration": 15,
    "start_time": "2024-11-26T15:33:37.356Z"
   },
   {
    "duration": 51,
    "start_time": "2024-11-26T15:33:37.373Z"
   },
   {
    "duration": 5,
    "start_time": "2024-11-26T15:33:37.426Z"
   },
   {
    "duration": 20,
    "start_time": "2024-11-26T15:33:37.432Z"
   },
   {
    "duration": 10,
    "start_time": "2024-11-26T15:33:37.454Z"
   },
   {
    "duration": 4,
    "start_time": "2024-11-26T15:33:37.465Z"
   },
   {
    "duration": 349,
    "start_time": "2024-11-26T15:33:37.471Z"
   },
   {
    "duration": 30,
    "start_time": "2024-11-26T15:33:37.822Z"
   },
   {
    "duration": 5,
    "start_time": "2024-11-26T15:33:37.853Z"
   },
   {
    "duration": 6,
    "start_time": "2024-11-26T15:33:37.859Z"
   },
   {
    "duration": 4,
    "start_time": "2024-11-26T15:33:37.867Z"
   },
   {
    "duration": 31,
    "start_time": "2024-11-26T15:33:37.872Z"
   },
   {
    "duration": 609,
    "start_time": "2024-11-26T15:33:37.905Z"
   },
   {
    "duration": 120598,
    "start_time": "2024-11-26T15:33:38.517Z"
   },
   {
    "duration": 3,
    "start_time": "2024-11-26T15:35:39.116Z"
   },
   {
    "duration": 1586,
    "start_time": "2024-11-26T15:35:39.121Z"
   },
   {
    "duration": 4,
    "start_time": "2024-11-26T15:35:40.798Z"
   },
   {
    "duration": 39,
    "start_time": "2024-11-26T15:35:40.803Z"
   },
   {
    "duration": 4621,
    "start_time": "2024-11-26T15:35:40.843Z"
   },
   {
    "duration": 8,
    "start_time": "2024-11-26T15:35:45.466Z"
   },
   {
    "duration": 1795,
    "start_time": "2024-11-29T11:42:24.955Z"
   },
   {
    "duration": 5,
    "start_time": "2024-11-29T11:44:09.416Z"
   },
   {
    "duration": 156,
    "start_time": "2024-11-29T11:45:18.761Z"
   },
   {
    "duration": 83,
    "start_time": "2024-11-29T11:45:22.872Z"
   },
   {
    "duration": 17,
    "start_time": "2024-11-29T11:45:23.509Z"
   },
   {
    "duration": 5,
    "start_time": "2024-11-29T11:45:26.611Z"
   },
   {
    "duration": 34,
    "start_time": "2024-11-29T11:45:27.095Z"
   },
   {
    "duration": 14,
    "start_time": "2024-11-29T11:45:27.494Z"
   },
   {
    "duration": 14,
    "start_time": "2024-11-29T11:48:01.956Z"
   },
   {
    "duration": 50,
    "start_time": "2024-11-29T11:48:43.970Z"
   },
   {
    "duration": 51,
    "start_time": "2024-11-29T13:40:20.466Z"
   },
   {
    "duration": 1966,
    "start_time": "2024-11-29T13:40:20.849Z"
   },
   {
    "duration": 6,
    "start_time": "2024-11-29T15:47:30.251Z"
   },
   {
    "duration": 4,
    "start_time": "2024-11-29T15:47:37.616Z"
   },
   {
    "duration": 4,
    "start_time": "2024-11-29T15:47:47.695Z"
   },
   {
    "duration": 45,
    "start_time": "2024-11-29T15:47:51.164Z"
   },
   {
    "duration": 21,
    "start_time": "2024-11-29T15:47:51.761Z"
   },
   {
    "duration": 16,
    "start_time": "2024-11-29T15:47:53.639Z"
   },
   {
    "duration": 63,
    "start_time": "2024-11-29T15:47:55.002Z"
   },
   {
    "duration": 1981,
    "start_time": "2024-11-29T15:47:55.871Z"
   },
   {
    "duration": 18,
    "start_time": "2024-11-29T15:48:06.752Z"
   },
   {
    "duration": 7,
    "start_time": "2024-11-29T15:49:50.447Z"
   },
   {
    "duration": 4,
    "start_time": "2024-11-29T15:51:47.595Z"
   },
   {
    "duration": 3264,
    "start_time": "2024-11-29T15:52:38.188Z"
   },
   {
    "duration": 1651,
    "start_time": "2024-11-29T15:58:19.413Z"
   },
   {
    "duration": 5,
    "start_time": "2024-11-29T16:05:12.453Z"
   },
   {
    "duration": 5,
    "start_time": "2024-11-29T16:05:13.757Z"
   },
   {
    "duration": 55,
    "start_time": "2024-11-30T20:15:19.805Z"
   },
   {
    "duration": 1668,
    "start_time": "2024-11-30T20:16:56.530Z"
   },
   {
    "duration": 159,
    "start_time": "2024-11-30T20:16:58.202Z"
   },
   {
    "duration": 16,
    "start_time": "2024-11-30T20:16:58.362Z"
   },
   {
    "duration": 12,
    "start_time": "2024-11-30T20:16:58.379Z"
   },
   {
    "duration": 45,
    "start_time": "2024-11-30T20:16:58.393Z"
   },
   {
    "duration": 2783,
    "start_time": "2024-11-30T20:16:58.439Z"
   },
   {
    "duration": 24,
    "start_time": "2024-11-30T20:17:01.261Z"
   },
   {
    "duration": 18,
    "start_time": "2024-11-30T20:17:01.287Z"
   },
   {
    "duration": 55,
    "start_time": "2024-11-30T20:17:01.307Z"
   },
   {
    "duration": 3436,
    "start_time": "2024-11-30T20:17:01.364Z"
   },
   {
    "duration": 1585,
    "start_time": "2024-11-30T20:17:04.802Z"
   },
   {
    "duration": 4,
    "start_time": "2024-11-30T20:17:06.389Z"
   },
   {
    "duration": 39,
    "start_time": "2024-11-30T20:17:06.394Z"
   },
   {
    "duration": 14,
    "start_time": "2024-11-30T20:17:06.435Z"
   },
   {
    "duration": 16,
    "start_time": "2024-11-30T20:17:06.451Z"
   },
   {
    "duration": 30,
    "start_time": "2024-11-30T20:17:06.469Z"
   },
   {
    "duration": 5,
    "start_time": "2024-11-30T20:17:06.501Z"
   },
   {
    "duration": 25,
    "start_time": "2024-11-30T20:17:06.508Z"
   },
   {
    "duration": 159,
    "start_time": "2024-11-30T20:17:06.534Z"
   },
   {
    "duration": 17,
    "start_time": "2024-11-30T20:17:06.695Z"
   },
   {
    "duration": 335,
    "start_time": "2024-11-30T20:17:06.713Z"
   },
   {
    "duration": 32,
    "start_time": "2024-11-30T20:17:07.049Z"
   },
   {
    "duration": 4,
    "start_time": "2024-11-30T20:17:07.083Z"
   },
   {
    "duration": 31,
    "start_time": "2024-11-30T20:17:07.089Z"
   },
   {
    "duration": 6,
    "start_time": "2024-11-30T20:17:07.122Z"
   },
   {
    "duration": 9,
    "start_time": "2024-11-30T20:17:07.130Z"
   },
   {
    "duration": 568,
    "start_time": "2024-11-30T20:17:07.140Z"
   },
   {
    "duration": 109081,
    "start_time": "2024-11-30T20:17:07.710Z"
   },
   {
    "duration": 3,
    "start_time": "2024-11-30T20:18:56.793Z"
   },
   {
    "duration": 1464,
    "start_time": "2024-11-30T20:18:56.798Z"
   },
   {
    "duration": 4,
    "start_time": "2024-11-30T20:18:58.264Z"
   },
   {
    "duration": 22,
    "start_time": "2024-11-30T20:18:58.269Z"
   },
   {
    "duration": 4332,
    "start_time": "2024-11-30T20:18:58.293Z"
   },
   {
    "duration": 7,
    "start_time": "2024-11-30T20:19:02.626Z"
   },
   {
    "duration": 4,
    "start_time": "2024-11-30T20:19:36.103Z"
   },
   {
    "duration": 7,
    "start_time": "2024-11-30T20:25:37.120Z"
   },
   {
    "duration": 110760,
    "start_time": "2024-11-30T20:25:47.489Z"
   },
   {
    "duration": 3,
    "start_time": "2024-11-30T20:27:38.250Z"
   },
   {
    "duration": 1518,
    "start_time": "2024-11-30T20:27:38.254Z"
   },
   {
    "duration": 4,
    "start_time": "2024-11-30T20:27:39.774Z"
   },
   {
    "duration": 30,
    "start_time": "2024-11-30T20:27:39.780Z"
   },
   {
    "duration": 4331,
    "start_time": "2024-11-30T20:27:39.812Z"
   },
   {
    "duration": 1463,
    "start_time": "2024-11-30T20:37:12.923Z"
   },
   {
    "duration": 41,
    "start_time": "2024-11-30T20:37:14.388Z"
   },
   {
    "duration": 16,
    "start_time": "2024-11-30T20:37:14.430Z"
   },
   {
    "duration": 10,
    "start_time": "2024-11-30T20:37:14.448Z"
   },
   {
    "duration": 44,
    "start_time": "2024-11-30T20:37:14.460Z"
   },
   {
    "duration": 2509,
    "start_time": "2024-11-30T20:37:14.505Z"
   },
   {
    "duration": 17,
    "start_time": "2024-11-30T20:37:17.016Z"
   },
   {
    "duration": 5,
    "start_time": "2024-11-30T20:37:17.034Z"
   },
   {
    "duration": 22,
    "start_time": "2024-11-30T20:37:17.041Z"
   },
   {
    "duration": 3064,
    "start_time": "2024-11-30T20:37:17.066Z"
   },
   {
    "duration": 1526,
    "start_time": "2024-11-30T20:37:20.132Z"
   },
   {
    "duration": 4,
    "start_time": "2024-11-30T20:37:21.661Z"
   },
   {
    "duration": 6,
    "start_time": "2024-11-30T20:37:21.666Z"
   },
   {
    "duration": 5,
    "start_time": "2024-11-30T20:37:21.673Z"
   },
   {
    "duration": 12,
    "start_time": "2024-11-30T20:37:21.679Z"
   },
   {
    "duration": 45,
    "start_time": "2024-11-30T20:37:21.693Z"
   },
   {
    "duration": 4,
    "start_time": "2024-11-30T20:37:21.740Z"
   },
   {
    "duration": 20,
    "start_time": "2024-11-30T20:37:21.746Z"
   },
   {
    "duration": 7,
    "start_time": "2024-11-30T20:37:21.768Z"
   },
   {
    "duration": 4,
    "start_time": "2024-11-30T20:37:21.777Z"
   },
   {
    "duration": 434,
    "start_time": "2024-11-30T20:37:21.782Z"
   },
   {
    "duration": 28,
    "start_time": "2024-11-30T20:37:22.218Z"
   },
   {
    "duration": 16,
    "start_time": "2024-11-30T20:37:22.248Z"
   },
   {
    "duration": 19,
    "start_time": "2024-11-30T20:37:22.265Z"
   },
   {
    "duration": 7,
    "start_time": "2024-11-30T20:37:22.286Z"
   },
   {
    "duration": 16,
    "start_time": "2024-11-30T20:37:22.295Z"
   },
   {
    "duration": 561,
    "start_time": "2024-11-30T20:37:22.312Z"
   },
   {
    "duration": 112131,
    "start_time": "2024-11-30T20:37:22.876Z"
   },
   {
    "duration": 2,
    "start_time": "2024-11-30T20:39:15.009Z"
   },
   {
    "duration": 1551,
    "start_time": "2024-11-30T20:39:15.013Z"
   },
   {
    "duration": 3,
    "start_time": "2024-11-30T20:39:16.566Z"
   },
   {
    "duration": 22,
    "start_time": "2024-11-30T20:39:16.570Z"
   },
   {
    "duration": 4489,
    "start_time": "2024-11-30T20:39:16.593Z"
   },
   {
    "duration": 7,
    "start_time": "2024-11-30T20:39:21.083Z"
   }
  ],
  "kernelspec": {
   "display_name": "Python 3 (ipykernel)",
   "language": "python",
   "name": "python3"
  },
  "language_info": {
   "codemirror_mode": {
    "name": "ipython",
    "version": 3
   },
   "file_extension": ".py",
   "mimetype": "text/x-python",
   "name": "python",
   "nbconvert_exporter": "python",
   "pygments_lexer": "ipython3",
   "version": "3.9.5"
  },
  "toc": {
   "base_numbering": 1,
   "nav_menu": {},
   "number_sections": true,
   "sideBar": true,
   "skip_h1_title": true,
   "title_cell": "Table of Contents",
   "title_sidebar": "Contents",
   "toc_cell": false,
   "toc_position": {
    "height": "calc(100% - 180px)",
    "left": "10px",
    "top": "150px",
    "width": "275px"
   },
   "toc_section_display": true,
   "toc_window_display": true
  }
 },
 "nbformat": 4,
 "nbformat_minor": 2
}
